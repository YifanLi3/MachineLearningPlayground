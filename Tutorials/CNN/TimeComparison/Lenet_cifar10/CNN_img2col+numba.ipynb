{
  "cells": [
    {
      "cell_type": "markdown",
      "metadata": {
        "id": "RtBZRYzURQqj"
      },
      "source": [
        "# Includes Channel and Batch\n",
        "\n",
        "Coded by Lujia Zhong @lujiazho<br>\n",
        "Reference: https://microsoft.github.io/ai-edu/"
      ]
    },
    {
      "cell_type": "code",
      "source": [
        "!pip install numba"
      ],
      "metadata": {
        "colab": {
          "base_uri": "https://localhost:8080/"
        },
        "id": "hGACf-koRYsk",
        "outputId": "e09435ff-13b7-4c4e-ea1f-ba898804a0f3"
      },
      "execution_count": 1,
      "outputs": [
        {
          "output_type": "stream",
          "name": "stdout",
          "text": [
            "Looking in indexes: https://pypi.org/simple, https://us-python.pkg.dev/colab-wheels/public/simple/\n",
            "Requirement already satisfied: numba in /usr/local/lib/python3.7/dist-packages (0.51.2)\n",
            "Requirement already satisfied: setuptools in /usr/local/lib/python3.7/dist-packages (from numba) (57.4.0)\n",
            "Requirement already satisfied: numpy>=1.15 in /usr/local/lib/python3.7/dist-packages (from numba) (1.21.6)\n",
            "Requirement already satisfied: llvmlite<0.35,>=0.34.0.dev0 in /usr/local/lib/python3.7/dist-packages (from numba) (0.34.0)\n"
          ]
        }
      ]
    },
    {
      "cell_type": "code",
      "source": [
        "!git clone https://github.com/lujiazho/MachineLearningPlayground.git"
      ],
      "metadata": {
        "colab": {
          "base_uri": "https://localhost:8080/"
        },
        "id": "mfSZJ859RUeT",
        "outputId": "b9627849-27df-4837-8cc5-4e1a1d4b4494"
      },
      "execution_count": 2,
      "outputs": [
        {
          "output_type": "stream",
          "name": "stdout",
          "text": [
            "Cloning into 'MachineLearningPlayground'...\n",
            "remote: Enumerating objects: 234, done.\u001b[K\n",
            "remote: Counting objects: 100% (169/169), done.\u001b[K\n",
            "remote: Compressing objects: 100% (128/128), done.\u001b[K\n",
            "remote: Total 234 (delta 69), reused 118 (delta 38), pack-reused 65\u001b[K\n",
            "Receiving objects: 100% (234/234), 25.36 MiB | 28.66 MiB/s, done.\n",
            "Resolving deltas: 100% (77/77), done.\n"
          ]
        }
      ]
    },
    {
      "cell_type": "code",
      "source": [
        "%cd MachineLearningPlayground/"
      ],
      "metadata": {
        "colab": {
          "base_uri": "https://localhost:8080/"
        },
        "id": "pGg0EHnlRcpz",
        "outputId": "22311708-1c5d-432e-c438-984066f7e9ba"
      },
      "execution_count": 3,
      "outputs": [
        {
          "output_type": "stream",
          "name": "stdout",
          "text": [
            "/content/MachineLearningPlayground\n"
          ]
        }
      ]
    },
    {
      "cell_type": "code",
      "execution_count": 4,
      "metadata": {
        "id": "QYR7hUsgRQqo"
      },
      "outputs": [],
      "source": [
        "import time\n",
        "import pickle\n",
        "import numba as nb\n",
        "import numpy as np\n",
        "import matplotlib.pyplot as plt\n",
        "\n",
        "from miniml.ann import *\n",
        "from miniml.ann.common import *\n",
        "from miniml.ann.utils import *"
      ]
    },
    {
      "cell_type": "code",
      "execution_count": 7,
      "metadata": {
        "id": "4JqZFtUuRQqq",
        "colab": {
          "base_uri": "https://localhost:8080/"
        },
        "outputId": "8ba409e3-f536-42d1-fa93-c39ee93b7197"
      },
      "outputs": [
        {
          "output_type": "execute_result",
          "data": {
            "text/plain": [
              "(10000, 10000)"
            ]
          },
          "metadata": {},
          "execution_count": 7
        }
      ],
      "source": [
        "with open('../data_batch_1', 'rb') as fo:\n",
        "    dict_ = pickle.load(fo, encoding='bytes')\n",
        "with open('../batches.meta', 'rb') as fo:\n",
        "    meta = pickle.load(fo, encoding='bytes')\n",
        "\n",
        "data, labels = dict_[b'data'], dict_[b'labels']\n",
        "names = meta[b'label_names']\n",
        "len(data), len(labels)"
      ]
    },
    {
      "cell_type": "code",
      "execution_count": 8,
      "metadata": {
        "colab": {
          "base_uri": "https://localhost:8080/",
          "height": 283
        },
        "id": "vR6T0X6IRQqr",
        "outputId": "ad8b1d1f-f08c-4ae3-861f-c26413090a5d"
      },
      "outputs": [
        {
          "output_type": "stream",
          "name": "stdout",
          "text": [
            "b'ship'\n"
          ]
        },
        {
          "output_type": "display_data",
          "data": {
            "text/plain": [
              "<Figure size 432x288 with 1 Axes>"
            ],
            "image/png": "[encoded data removed]"
          },
          "metadata": {
            "needs_background": "light"
          }
        }
      ],
      "source": [
        "idx = 100\n",
        "img = data[idx].reshape(3,32,32)\n",
        "print(names[labels[idx]])\n",
        "_ = plt.imshow(img.transpose(1,2,0))"
      ]
    },
    {
      "cell_type": "code",
      "execution_count": 9,
      "metadata": {
        "id": "cJ9bSkULRQqs"
      },
      "outputs": [],
      "source": [
        "@nb.jit(nopython=True)\n",
        "def loop_img2col(k, s, n_h, n_w, col, inputs):\n",
        "    for i in range(k):\n",
        "        i_max = i + s*n_h\n",
        "        for j in range(k):\n",
        "            j_max = j + s*n_w\n",
        "            col[:, :, i, j, :, :] = inputs[:, :, i:i_max:s, j:j_max:s]\n",
        "\n",
        "def img2col(inputs, n_h, n_w, k, s=1):\n",
        "    bt, c_i = inputs.shape[0:2] \n",
        "\n",
        "    # [bt, c_i, k, k, n_h, n_w]\n",
        "    col = np.zeros((bt, c_i, k, k, n_h, n_w))\n",
        "    loop_img2col(k, s, n_h, n_w, col, inputs)\n",
        "\n",
        "    # [bt, c_i, k, k, n_h, n_w] -> [bt*n_h*n_w, k*k*c_i]\n",
        "    col = np.transpose(col, axes=(0, 4, 5, 1, 2, 3)).reshape(bt*n_h*n_w, -1)\n",
        "    return col\n",
        "\n",
        "@nb.jit(nopython=True)\n",
        "def loop_col2img(k, s, n_h, n_w, img, tmp2):\n",
        "    for i in range(k):\n",
        "        i_max = i + s*n_h\n",
        "        for j in range(k):\n",
        "            j_max = j + s*n_w\n",
        "            img[:, :, i:i_max:s, j:j_max:s] += tmp2[:, :, i, j, :, :]\n",
        "\n",
        "def col2img(grad_col_x, input_shape, k, s, shift, n_h, n_w):\n",
        "    bt, c_i, h, w = input_shape\n",
        "\n",
        "    # [bt*n_h*n_w, k*k*c_i] -> [bt, n_h, n_w, c_i, k, k]\n",
        "    tmp1 = grad_col_x.reshape(bt, n_h, n_w, c_i, k, k)\n",
        "    # [bt, n_h, n_w, c_i, k, k] -> [bt, c_i, k, k, n_h, n_w]\n",
        "    tmp2 = np.transpose(tmp1, axes=(0, 3, 4, 5, 1, 2))\n",
        "\n",
        "    img = np.zeros((bt, c_i, h + 2*shift + s - 1, w + 2*shift + s - 1))\n",
        "    loop_col2img(k, s, n_h, n_w, img, tmp2)\n",
        "\n",
        "    # grad_x: [bt, c_i, h, w]\n",
        "    return img[:, :, shift:h + shift, shift:w + shift]"
      ]
    },
    {
      "cell_type": "code",
      "execution_count": 10,
      "metadata": {
        "id": "raWy-ukzRQqt"
      },
      "outputs": [],
      "source": [
        "class Conv2D(Node):\n",
        "    def __init__(self, nodes, weights, bias, output_c, input_c, stride=1, padding=False):\n",
        "        self.output_c = output_c\n",
        "        self.input_c = input_c\n",
        "        self.stride = stride\n",
        "        self.padding = padding\n",
        "        self.bias = True if bias else False\n",
        "        Node.__init__(self, [nodes, weights, bias] if bias else [nodes, weights])\n",
        "\n",
        "    def forward(self):\n",
        "        # inputs: [batch, channel_in, hight_in, width_in]\n",
        "        inputs = self.inputs[0].value\n",
        "        # weights: [channel_out, channel_in, kernel_size, kernel_size]\n",
        "        weights = self.inputs[1].value\n",
        "        # bias: [channel_out, 1, 1] or [1, channel_out, 1, 1] is the same\n",
        "        if self.bias:\n",
        "            bias = self.inputs[2].value\n",
        "        k = weights.shape[2]  # kernel size (w equals to h)\n",
        "\n",
        "        s = self.stride\n",
        "        if self.padding:\n",
        "            inputs = np.pad(inputs, ((0,0),(0,0),(k//2,k//2),(k//2,k//2)), 'constant')\n",
        "        assert (inputs.shape[2]-k)%s == 0\n",
        "        assert (inputs.shape[3]-k)%s == 0\n",
        "        assert s < k\n",
        "\n",
        "        self.new_h = (inputs.shape[2]-k)//s+1\n",
        "        self.new_w = (inputs.shape[3]-k)//s+1\n",
        "\n",
        "        self.col_x = img2col(inputs, self.new_h, self.new_w, k, s=s)\n",
        "        self.col_kernel = weights.reshape(self.output_c, -1).T\n",
        "        if self.bias:\n",
        "            col_bias = bias.reshape(1, self.output_c)\n",
        "        \n",
        "        col_res = np.dot(self.col_x, self.col_kernel) + (col_bias if self.bias else 0)\n",
        "        tmpres = col_res.reshape(inputs.shape[0], self.new_h, self.new_w, self.output_c)\n",
        "        self.value = np.transpose(tmpres, axes=(0,3,1,2))\n",
        "    \n",
        "    def backward(self):\n",
        "        # create zero loss for all inputs\n",
        "        self.gradients = {n: np.zeros_like(n.value, dtype=np.float64) for n in self.inputs}\n",
        "        \n",
        "        c_i = self.input_c\n",
        "        c_o = self.output_c\n",
        "        s = self.stride\n",
        "        k = self.inputs[1].value.shape[2]\n",
        "        \n",
        "        # X: [batch, ch_in, height_in, width_in]\n",
        "        X = self.inputs[0].value\n",
        "\n",
        "        for n in self.outputs:\n",
        "            # Get the cost w.r.t this node.\n",
        "            grad_y = n.gradients[self]\n",
        "            \n",
        "            grad_col_res = np.transpose(grad_y, axes=(0,2,3,1)).reshape(-1, c_o)\n",
        "            \n",
        "            # grad_col_bias: [1, c_o]\n",
        "            grad_col_bias = np.sum(grad_col_res, axis=0, keepdims=True)\n",
        "            # grad_col_kernel: [k*k*c_i, c_o]\n",
        "            grad_col_kernel = np.dot(self.col_x.T, grad_col_res)\n",
        "            # grad_col_x: [bt*n_h*n_w, k*k*c_i]\n",
        "            grad_col_x = np.dot(grad_col_res, self.col_kernel.T)\n",
        "            \n",
        "            if self.bias:\n",
        "                self.gradients[self.inputs[2]] += grad_col_bias.reshape(c_o, 1, 1)\n",
        "            \n",
        "            self.gradients[self.inputs[1]] += np.transpose(grad_col_kernel, axes=(1, 0)).reshape(c_o, c_i, k, k)\n",
        "            \n",
        "            self.gradients[self.inputs[0]] += col2img(grad_col_x, X.shape, k, s, \n",
        "                                                      k//2 if self.padding else 0, self.new_h, self.new_w)"
      ]
    },
    {
      "cell_type": "code",
      "execution_count": 11,
      "metadata": {
        "id": "CuzyV4FLRQqu"
      },
      "outputs": [],
      "source": [
        "class AvePooling(Node):\n",
        "    def __init__(self, nodes, k=3):\n",
        "        self.k = k\n",
        "        Node.__init__(self, [nodes])\n",
        "    \n",
        "    def forward(self):\n",
        "        inputs = self.inputs[0].value\n",
        "        s = k = self.k\n",
        "        \n",
        "        assert inputs.shape[2]%k == 0\n",
        "        assert inputs.shape[3]%k == 0\n",
        "        assert k > 1\n",
        "\n",
        "        self.new_h = inputs.shape[2]//k\n",
        "        self.new_w = inputs.shape[3]//k\n",
        "        \n",
        "        bt, c_io = inputs.shape[:2]\n",
        "        # [bt*n_h*n_w, c_i*k*k]\n",
        "        col = img2col(inputs, self.new_h, self.new_w, k, s)\n",
        "        # [bt*n_h*n_w*c_i, k*k]\n",
        "        col_x = col.reshape(-1, k*k)\n",
        "        # [bt*n_h*n_w*c_i, k*k] -> [bt*n_h*n_w*c_i] -> [bt, n_h, n_w, c_i]\n",
        "        out = np.mean(col_x, axis=1).reshape(bt, self.new_h, self.new_w, c_io)\n",
        "        # [bt, n_h, n_w, c_i] -> [bt, c_i, n_h, n_w]\n",
        "        self.value = np.transpose(out, axes=(0,3,1,2))\n",
        "    \n",
        "    def backward(self):\n",
        "        # create zero loss for all inputs\n",
        "        self.gradients = {n: np.zeros_like(n.value, dtype=np.float64) for n in self.inputs}\n",
        "        s = k = self.k\n",
        "        X = self.inputs[0].value\n",
        "\n",
        "        for n in self.outputs:\n",
        "            # Get the cost w.r.t this node.\n",
        "            grad_y = n.gradients[self]\n",
        "            \n",
        "            # c_i==c_o, [bt, c_i, n_h, n_w] -> [bt, n_h, n_w, c_i]\n",
        "            tmp = np.transpose(grad_y, (0,2,3,1))\n",
        "            # [bt, n_h, n_w, c_i] -> [bt*n_h*n_w*c_i, k*k]\n",
        "            grad = np.repeat(tmp.flatten(), k*k)/k*k\n",
        "            # [bt*n_h*n_w*c_i, k*k] -> [bt, n_h, n_w, c_i, k*k]\n",
        "            grad = grad.reshape(tmp.shape + (k*k,))\n",
        "            # [bt, n_h, n_w, c_i, k*k] -> [bt*n_h*n_w, c_i*k*k]\n",
        "            grad = grad.reshape(grad.shape[0] * grad.shape[1] * grad.shape[2], -1)\n",
        "            \n",
        "            self.gradients[self.inputs[0]] += col2img(grad, X.shape, k, s, 0, self.new_h, self.new_w)"
      ]
    },
    {
      "cell_type": "code",
      "execution_count": 12,
      "metadata": {
        "id": "4RQklr4_RQqw"
      },
      "outputs": [],
      "source": [
        "class Flatten(Node):\n",
        "    def __init__(self, nodes):\n",
        "        Node.__init__(self, [nodes])\n",
        "        \n",
        "    def forward(self):\n",
        "        inputs = self.inputs[0].value\n",
        "        self.value = inputs.flatten().reshape(inputs.shape[0],-1)\n",
        "    \n",
        "    def backward(self):\n",
        "        # create zero loss for all inputs\n",
        "        self.gradients = {n: np.zeros_like(n.value, dtype=np.float64) for n in self.inputs}\n",
        "        X = self.inputs[0].value\n",
        "\n",
        "        for n in self.outputs:\n",
        "            # Get the cost w.r.t this node.\n",
        "            grad_cost = n.gradients[self]\n",
        "            self.gradients[self.inputs[0]] += grad_cost.reshape(X.shape)"
      ]
    },
    {
      "cell_type": "code",
      "execution_count": 16,
      "metadata": {
        "id": "LVadUJInRQqw"
      },
      "outputs": [],
      "source": [
        "W1 = np.random.randn(6, 3, 5, 5)\n",
        "b1 = np.random.randn(6, 1, 1)\n",
        "\n",
        "W2 = np.random.randn(16, 6, 5, 5)\n",
        "b2 = np.random.randn(16, 1, 1)\n",
        "\n",
        "W3 = np.random.randn(400, 120)\n",
        "b3 = np.random.randn(120)\n",
        "\n",
        "W4 = np.random.randn(120, 84)\n",
        "b4 = np.random.randn(84)\n",
        "\n",
        "W5 = np.random.randn(84, 10)\n",
        "\n",
        "x_node, y_node = Placeholder(), Placeholder()\n",
        "\n",
        "W1_node = Placeholder()\n",
        "b1_node = Placeholder()\n",
        "\n",
        "W2_node = Placeholder()\n",
        "b2_node = Placeholder()\n",
        "\n",
        "W3_node = Placeholder()\n",
        "b3_node = Placeholder()\n",
        "\n",
        "W4_node = Placeholder()\n",
        "b4_node = Placeholder()\n",
        "\n",
        "W5_node = Placeholder()\n",
        "\n",
        "conv1 = Conv2D(x_node, W1_node, b1_node, output_c=6, input_c=3, stride=1, padding=False)\n",
        "ave1 = AvePooling(conv1, k=2)\n",
        "conv2 = Conv2D(ave1, W2_node, b2_node, output_c=16, input_c=6, stride=1, padding=False)\n",
        "ave2 = AvePooling(conv2, k=2)\n",
        "flat = Flatten(ave2)\n",
        "l1 = Linear(flat, W3_node, b3_node)\n",
        "sigmoid1 = Sigmoid(l1)\n",
        "l2 = Linear(sigmoid1, W4_node, b4_node)\n",
        "sigmoid2 = Sigmoid(l2)\n",
        "l3 = Linear(sigmoid2, W5_node, None)\n",
        "sigmoid3 = Sigmoid(l3)\n",
        "mse = MSE(y_node, sigmoid3)"
      ]
    },
    {
      "cell_type": "code",
      "execution_count": 17,
      "metadata": {
        "id": "n6AujWTRRQqx"
      },
      "outputs": [],
      "source": [
        "feed_dict = {\n",
        "    x_node: np.array([img]),\n",
        "    y_node: np.array([0,1,0,0,0,0,0,0,0,0]),\n",
        "\n",
        "    W1_node: W1,\n",
        "    b1_node: b1,\n",
        "\n",
        "    W2_node: W2,\n",
        "    b2_node: b2,\n",
        "    \n",
        "    W3_node: W3,\n",
        "    b3_node: b3,\n",
        "    \n",
        "    W4_node: W4,\n",
        "    b4_node: b4,\n",
        "    \n",
        "    W5_node: W5\n",
        "}\n",
        "\n",
        "graph = feed_dict_2_graph(feed_dict)    # network graph\n",
        "sorted_graph = topology(graph)          # sorted graph\n",
        "trainables = [W1_node, b1_node, W2_node, b2_node, W3_node, b3_node, W4_node, b4_node, W5_node]"
      ]
    },
    {
      "cell_type": "code",
      "execution_count": 18,
      "metadata": {
        "colab": {
          "base_uri": "https://localhost:8080/"
        },
        "id": "r5HWO0YqRQqy",
        "outputId": "0225efbf-2b09-4194-a8ad-2666115f6e01"
      },
      "outputs": [
        {
          "output_type": "stream",
          "name": "stdout",
          "text": [
            "Epoch: 1, Loss: 0.1293\n",
            "Epoch: 2, Loss: 0.1000\n",
            "Epoch: 3, Loss: 0.0999\n",
            "Epoch: 4, Loss: 0.0995\n",
            "Epoch: 5, Loss: 0.1000\n",
            "Epoch: 6, Loss: 0.1000\n",
            "Epoch: 7, Loss: 0.1000\n",
            "Epoch: 8, Loss: 0.1000\n",
            "Epoch: 9, Loss: 0.1000\n",
            "Epoch: 10, Loss: 0.0999\n",
            "Epoch: 11, Loss: 0.0999\n",
            "Epoch: 12, Loss: 0.0999\n",
            "Epoch: 13, Loss: 0.0999\n",
            "Epoch: 14, Loss: 0.0998\n",
            "Epoch: 15, Loss: 0.0995\n",
            "Epoch: 16, Loss: 0.0989\n",
            "Epoch: 17, Loss: 0.0983\n",
            "Epoch: 18, Loss: 0.0976\n",
            "Epoch: 19, Loss: 0.0968\n",
            "Epoch: 20, Loss: 0.0960\n",
            "0.6973 sec/epoch\n"
          ]
        }
      ],
      "source": [
        "start_time = time.time()\n",
        "optimizer = 'Adam'\n",
        "lr = 1e-2\n",
        "epochs = 20\n",
        "batch = 2\n",
        "\n",
        "# only used for Adam\n",
        "it = 0\n",
        "\n",
        "for i in range(1, epochs+1):\n",
        "    it += 1\n",
        "    losses = []\n",
        "    for j in range(1, 100, batch):\n",
        "        # Step 4.1: sample a batch of examples and Reset value\n",
        "        x_node.value = data[j:j+batch].reshape(batch, 3, 32, 32)\n",
        "        y_node.value = np.eye(10)[labels[j:j+batch]].reshape(batch,-1)\n",
        "\n",
        "        # Step 4.2: forward\n",
        "        for n in sorted_graph:\n",
        "            n.forward()\n",
        "\n",
        "        # Step 4.3: backward\n",
        "        for n in sorted_graph[::-1]:\n",
        "            n.backward()\n",
        "\n",
        "        # Step 4.4: optimization\n",
        "        for t in trainables:\n",
        "            t.optimize(optimizer=optimizer, lr=lr, it=it)\n",
        "\n",
        "        # Step 5: update current loss\n",
        "        loss = sorted_graph[-1].value\n",
        "        \n",
        "        losses.append(loss)\n",
        "\n",
        "    if (i+1) % 1 == 0:\n",
        "        print(\"Epoch: {}, Loss: {:.4f}\".format(i, np.mean(losses)))\n",
        "print(f\"{((time.time() - start_time)/epochs):.4f} sec/epoch\")"
      ]
    },
    {
      "cell_type": "code",
      "execution_count": 19,
      "metadata": {
        "colab": {
          "base_uri": "https://localhost:8080/"
        },
        "id": "vdm5ynN8RQqy",
        "outputId": "40e39593-8c2c-4046-c516-23c13b12fd4a"
      },
      "outputs": [
        {
          "output_type": "stream",
          "name": "stdout",
          "text": [
            "0.119\n"
          ]
        }
      ],
      "source": [
        "preds = []\n",
        "reals = []\n",
        "for i in range(1):\n",
        "    x_node.value = np.array(data[i:i+1000]).reshape(1000, 3, 32, 32)\n",
        "    for n in sorted_graph[:-1]:\n",
        "        n.forward()\n",
        "    preds.append(np.argmax(sorted_graph[-2].value, axis=1))\n",
        "    reals.append(labels[i:i+1000])\n",
        "print(np.sum(np.array(preds)==np.array(reals))/1000)"
      ]
    }
  ],
  "metadata": {
    "kernelspec": {
      "display_name": "Python 3",
      "language": "python",
      "name": "python3"
    },
    "language_info": {
      "codemirror_mode": {
        "name": "ipython",
        "version": 3
      },
      "file_extension": ".py",
      "mimetype": "text/x-python",
      "name": "python",
      "nbconvert_exporter": "python",
      "pygments_lexer": "ipython3",
      "version": "3.7.10"
    },
    "colab": {
      "name": "CNN_img2col+numba.ipynb",
      "provenance": [],
      "collapsed_sections": []
    }
  },
  "nbformat": 4,
  "nbformat_minor": 0
}