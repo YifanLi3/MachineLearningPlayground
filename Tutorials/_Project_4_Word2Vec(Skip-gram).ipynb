{
 "cells": [
  {
   "cell_type": "code",
   "execution_count": 1,
   "metadata": {},
   "outputs": [],
   "source": [
    "import numpy as np \n",
    "import pandas as pd\n",
    "import matplotlib.pyplot as plt\n",
    "\n",
    "from miniml.ann import *\n",
    "from miniml.ann.common import *\n",
    "from miniml.ann.utils import *"
   ]
  },
  {
   "cell_type": "code",
   "execution_count": 2,
   "metadata": {},
   "outputs": [],
   "source": [
    "embedding_size = 2\n",
    "\n",
    "sentences = [\"apple banana fruit\", \"banana orange fruit\", \"orange banana fruit\",\n",
    "                \"dog cat animal\", \"cat monkey animal\", \"monkey dog animal\"]\n",
    "\n",
    "word_sequence = \" \".join(sentences).split()\n",
    "word_list = list(set(word_sequence))\n",
    "word_dict = {w: i for i, w in enumerate(word_list)}\n",
    "voc_size = len(word_list)"
   ]
  },
  {
   "cell_type": "code",
   "execution_count": 3,
   "metadata": {},
   "outputs": [],
   "source": [
    "# Make skip gram of one size window\n",
    "skip_grams = []\n",
    "for i in range(1, len(word_sequence) - 1):\n",
    "    target = word_dict[word_sequence[i]]\n",
    "    context = [word_dict[word_sequence[i - 1]], word_dict[word_sequence[i + 1]]]\n",
    "    for w in context:\n",
    "        skip_grams.append([target, w])\n",
    "skip_grams = np.array(skip_grams)"
   ]
  },
  {
   "cell_type": "code",
   "execution_count": 4,
   "metadata": {},
   "outputs": [],
   "source": [
    "W1 = np.random.randn(voc_size, embedding_size)\n",
    "W2 = np.random.randn(embedding_size, voc_size)\n",
    "\n",
    "x_node, y_node = Placeholder(), Placeholder()\n",
    "\n",
    "W1_node = Placeholder()\n",
    "W2_node = Placeholder()\n",
    "\n",
    "l1 = Linear(x_node, W1_node, None)\n",
    "l2 = Linear(l1, W2_node, None)\n",
    "mse = MSE(y_node, l2)"
   ]
  },
  {
   "cell_type": "code",
   "execution_count": 5,
   "metadata": {},
   "outputs": [],
   "source": [
    "feed_dict = {\n",
    "    W1_node: W1,\n",
    "    W2_node: W2\n",
    "}\n",
    "\n",
    "graph = feed_dict_2_graph(feed_dict)    # network graph\n",
    "sorted_graph = topology(graph)          # sorted graph\n",
    "trainables = [W1_node, W2_node]"
   ]
  },
  {
   "cell_type": "code",
   "execution_count": 6,
   "metadata": {},
   "outputs": [
    {
     "name": "stdout",
     "output_type": "stream",
     "text": [
      "Epoch: 100, Loss: 0.1344\n",
      "Epoch: 200, Loss: 0.0862\n",
      "Epoch: 300, Loss: 0.0628\n",
      "Epoch: 400, Loss: 0.0656\n",
      "Epoch: 500, Loss: 0.0623\n",
      "Epoch: 600, Loss: 0.0500\n",
      "Epoch: 700, Loss: 0.0615\n",
      "Epoch: 800, Loss: 0.0515\n",
      "Epoch: 900, Loss: 0.0639\n",
      "Epoch: 1000, Loss: 0.0424\n"
     ]
    }
   ],
   "source": [
    "optimizer = 'Adam'\n",
    "lr=1e-3\n",
    "epochs=1000\n",
    "batch_size = 2\n",
    "\n",
    "steps_per_epoch = len(skip_grams) // batch_size\n",
    "losses = []\n",
    "\n",
    "# only used for Adam\n",
    "it = 0\n",
    "\n",
    "for i in range(1, epochs+1):\n",
    "    loss = 0\n",
    "    for j in range(steps_per_epoch):\n",
    "        it += 1\n",
    "        # Step 4.1: x and y need to be one hot\n",
    "        rand_idx = np.random.choice(range(voc_size), batch_size, replace=False)\n",
    "        xy = skip_grams[rand_idx]\n",
    "        x_node.value = np.eye(voc_size)[xy[:,0]]\n",
    "        y_node.value = np.eye(voc_size)[xy[:,1]]\n",
    "\n",
    "        # Step 4.2: forward\n",
    "        for n in sorted_graph:\n",
    "            n.forward()\n",
    "\n",
    "        # Step 4.3: backward\n",
    "        for n in sorted_graph[::-1]:\n",
    "            n.backward()\n",
    "\n",
    "        # Step 4.4: optimization\n",
    "        for t in trainables:\n",
    "            t.optimize(optimizer=optimizer, lr=lr, it=it)\n",
    "\n",
    "        # Step 5: update current loss\n",
    "        loss += sorted_graph[-1].value\n",
    "\n",
    "    if i % 100 == 0: \n",
    "        print(\"Epoch: {}, Loss: {:.4f}\".format(i, loss/steps_per_epoch))\n",
    "        losses.append(loss/steps_per_epoch)"
   ]
  },
  {
   "cell_type": "code",
   "execution_count": 7,
   "metadata": {},
   "outputs": [
    {
     "data": {
      "image/png": "[encoded data removed]",
      "text/plain": [
       "<Figure size 432x288 with 1 Axes>"
      ]
     },
     "metadata": {
      "needs_background": "light"
     },
     "output_type": "display_data"
    }
   ],
   "source": [
    "for i, label in enumerate(word_list):\n",
    "    x, y = W1_node.value[i][0], W1_node.value[i][1]\n",
    "    plt.scatter(x, y)\n",
    "    plt.annotate(label, xy=(x, y), xytext=(5, 2), textcoords='offset points', ha='right', va='bottom')"
   ]
  }
 ],
 "metadata": {
  "kernelspec": {
   "display_name": "Python 3",
   "language": "python",
   "name": "python3"
  },
  "language_info": {
   "codemirror_mode": {
    "name": "ipython",
    "version": 3
   },
   "file_extension": ".py",
   "mimetype": "text/x-python",
   "name": "python",
   "nbconvert_exporter": "python",
   "pygments_lexer": "ipython3",
   "version": "3.7.10"
  }
 },
 "nbformat": 4,
 "nbformat_minor": 4
}
