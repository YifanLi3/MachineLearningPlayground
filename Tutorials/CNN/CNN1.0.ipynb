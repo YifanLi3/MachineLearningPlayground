{
 "cells": [
  {
   "cell_type": "markdown",
   "metadata": {},
   "source": [
    "# No Channel No Batch\n",
    "\n",
    "Coded by Lujia Zhong @lujiazho"
   ]
  },
  {
   "cell_type": "code",
   "execution_count": 1,
   "metadata": {},
   "outputs": [],
   "source": [
    "import numpy as np\n",
    "import pandas as pd\n",
    "import matplotlib.pyplot as plt\n",
    "\n",
    "from miniml.ann import *\n",
    "from miniml.ann.common import *\n",
    "from miniml.ann.utils import *"
   ]
  },
  {
   "cell_type": "code",
   "execution_count": 2,
   "metadata": {},
   "outputs": [],
   "source": [
    "train = pd.read_csv('./datasets/digit-recognizer/train.csv')\n",
    "training_data = pd.read_csv('./datasets/digit-recognizer/train.csv')\n",
    "\n",
    "train_label = train['label']\n",
    "train = train.drop(['label'], axis=1)"
   ]
  },
  {
   "cell_type": "code",
   "execution_count": 3,
   "metadata": {},
   "outputs": [
    {
     "data": {
      "image/png": "[encoded data removed]",
      "text/plain": [
       "<Figure size 432x288 with 1 Axes>"
      ]
     },
     "metadata": {
      "needs_background": "light"
     },
     "output_type": "display_data"
    }
   ],
   "source": [
    "img = np.array(train.iloc[0]).reshape(28, 28)\n",
    "_ = plt.imshow(img)"
   ]
  },
  {
   "cell_type": "code",
   "execution_count": 4,
   "metadata": {},
   "outputs": [],
   "source": [
    "class Conv2D(Node):\n",
    "    def __init__(self, nodes, weights, bias, stride=1, padding=False):\n",
    "        self.stride = stride\n",
    "        self.padding = padding\n",
    "        self.bias = True if bias else False\n",
    "        Node.__init__(self, [nodes, weights, bias] if bias else [nodes, weights])\n",
    "\n",
    "    def conv_(self, n_h, n_w, img, filter_, s=1):\n",
    "        k1, k2 = filter_.shape[0], filter_.shape[1]\n",
    "        res = np.zeros((n_h, n_w))\n",
    "        for i in range(n_h):\n",
    "            for j in range(n_w):\n",
    "                res[i][j] = np.sum(img[i*s:i*s+k1,j*s:j*s+k2]*filter_)\n",
    "        return res\n",
    "        \n",
    "    def forward(self):\n",
    "        inputs = self.inputs[0].value\n",
    "        weights = self.inputs[1].value\n",
    "        if self.bias:\n",
    "            bias = self.inputs[2].value\n",
    "        ks = weights.shape[0]  # kernel size\n",
    "\n",
    "        s = self.stride\n",
    "        if self.padding:\n",
    "            inputs = np.pad(inputs, (ks//2, ks//2), 'constant')\n",
    "        assert (inputs.shape[0]-ks)%s == 0\n",
    "        assert (inputs.shape[1]-ks)%s == 0\n",
    "        assert s < ks\n",
    "\n",
    "        new_h = (inputs.shape[0]-ks)//s+1\n",
    "        new_w = (inputs.shape[1]-ks)//s+1\n",
    "\n",
    "        self.value = self.conv_(new_h, new_w, inputs, weights, s=s) + (bias if self.bias else 0)\n",
    "    \n",
    "    def backward(self):\n",
    "        # create zero loss for all inputs\n",
    "        self.gradients = {n: np.zeros_like(n.value, dtype=np.float64) for n in self.inputs}\n",
    "        s = self.stride\n",
    "        k = self.inputs[1].value.shape[0]\n",
    "        X = self.inputs[0].value\n",
    "\n",
    "        for n in self.outputs:\n",
    "            # Get the cost w.r.t this node.\n",
    "            grad_cost = n.gradients[self]\n",
    "            \n",
    "            if s > 1:\n",
    "                tmp = np.insert(grad_cost.reshape(-1,1), 1, [[0]]*(s-1), axis=1)\n",
    "                tmp = tmp.reshape(grad_cost.shape[0], -1)[:,:-(s-1)]\n",
    "                tmp = np.insert(tmp, np.repeat(range(1,len(tmp)), (s-1)), [0]*tmp.shape[1], axis=0)\n",
    "                inser_grad = np.pad(tmp, (k-1, k-1), 'constant')\n",
    "            else:\n",
    "                inser_grad = np.pad(grad_cost, (k-1, k-1), 'constant')\n",
    "            \n",
    "            rotated_w = np.rot90(self.inputs[1].value, 2)\n",
    "            \n",
    "            n_h = self.gradients[self.inputs[0]].shape[0]\n",
    "            n_w = self.gradients[self.inputs[0]].shape[1]\n",
    "            self.gradients[self.inputs[0]] += self.conv_(n_h, n_w, inser_grad, rotated_w, s=1)\n",
    "\n",
    "            self.gradients[self.inputs[1]] += np.rot90(self.conv_(k, k, inser_grad, X, s=1), 2)\n",
    "            \n",
    "            if self.bias:\n",
    "                self.gradients[self.inputs[2]] += np.sum(grad_cost)"
   ]
  },
  {
   "cell_type": "code",
   "execution_count": 5,
   "metadata": {},
   "outputs": [],
   "source": [
    "class AvePooling(Node):\n",
    "    def __init__(self, nodes, k=3):\n",
    "        self.k = k\n",
    "        Node.__init__(self, [nodes])\n",
    "\n",
    "    def conv_(self, n_h, n_w, img, filter_, s=1):\n",
    "        k = self.k\n",
    "        res = np.zeros((n_h, n_w))\n",
    "        for i in range(n_h):\n",
    "            for j in range(n_w):\n",
    "                res[i][j] = np.sum(img[i*s:i*s+k,j*s:j*s+k]*filter_)\n",
    "        return res\n",
    "        \n",
    "    def forward(self):\n",
    "        inputs = self.inputs[0].value\n",
    "        k = self.k\n",
    "        \n",
    "        assert inputs.shape[0]%k == 0\n",
    "        assert inputs.shape[1]%k == 0\n",
    "        assert k > 1\n",
    "\n",
    "        filter_ = np.ones((k, k))/(k*k)\n",
    "        new_h = inputs.shape[0]//k\n",
    "        new_w = inputs.shape[1]//k\n",
    "\n",
    "        self.value = self.conv_(new_h, new_w, inputs, filter_, s=k)\n",
    "    \n",
    "    def backward(self):\n",
    "        # create zero loss for all inputs\n",
    "        self.gradients = {n: np.zeros_like(n.value, dtype=np.float64) for n in self.inputs}\n",
    "        s = k = self.k\n",
    "        X = self.inputs[0].value\n",
    "\n",
    "        for n in self.outputs:\n",
    "            # Get the cost w.r.t this node.\n",
    "            grad_cost = n.gradients[self]\n",
    "\n",
    "            tmp = np.insert(grad_cost.reshape(-1,1), 1, [[0]]*(s-1), axis=1)\n",
    "            tmp = tmp.reshape(grad_cost.shape[0], -1)[:,:-(s-1)]\n",
    "            tmp = np.insert(tmp, np.repeat(range(1,len(tmp)), (s-1)), [0]*tmp.shape[1], axis=0)\n",
    "            inser_grad = np.pad(tmp, (k-1, k-1), 'constant')\n",
    "            \n",
    "            w = np.ones((k, k))/(k*k)\n",
    "            \n",
    "            n_h = self.gradients[self.inputs[0]].shape[0]\n",
    "            n_w = self.gradients[self.inputs[0]].shape[1]\n",
    "            self.gradients[self.inputs[0]] += self.conv_(n_h, n_w, inser_grad, w, s=1)"
   ]
  },
  {
   "cell_type": "code",
   "execution_count": 6,
   "metadata": {},
   "outputs": [],
   "source": [
    "class Flatten(Node):\n",
    "    def __init__(self, nodes):\n",
    "        Node.__init__(self, [nodes])\n",
    "        \n",
    "    def forward(self):\n",
    "        inputs = self.inputs[0].value\n",
    "        self.value = inputs.flatten().reshape(1,-1)\n",
    "    \n",
    "    def backward(self):\n",
    "        # create zero loss for all inputs\n",
    "        self.gradients = {n: np.zeros_like(n.value, dtype=np.float64) for n in self.inputs}\n",
    "        X = self.inputs[0].value\n",
    "\n",
    "        for n in self.outputs:\n",
    "            # Get the cost w.r.t this node.\n",
    "            grad_cost = n.gradients[self]\n",
    "            self.gradients[self.inputs[0]] += grad_cost.reshape(X.shape[0],X.shape[1])"
   ]
  },
  {
   "cell_type": "code",
   "execution_count": 7,
   "metadata": {},
   "outputs": [],
   "source": [
    "W1 = np.random.randn(5, 5)\n",
    "b1 = np.random.randn(1)\n",
    "\n",
    "W2 = np.random.randn(3, 3)\n",
    "b2 = np.random.randn(1)\n",
    "\n",
    "W3 = np.random.randn(49, 20)\n",
    "b3 = np.random.randn(20)\n",
    "\n",
    "W4 = np.random.randn(20, 10)\n",
    "\n",
    "x_node, y_node = Placeholder(), Placeholder()\n",
    "\n",
    "W1_node = Placeholder()\n",
    "b1_node = Placeholder()\n",
    "\n",
    "W2_node = Placeholder()\n",
    "b2_node = Placeholder()\n",
    "\n",
    "W3_node = Placeholder()\n",
    "b3_node = Placeholder()\n",
    "\n",
    "W4_node = Placeholder()\n",
    "\n",
    "conv1 = Conv2D(x_node, W1_node, b1_node, stride=1, padding=True)\n",
    "ave1 = AvePooling(conv1, k=2)\n",
    "conv2 = Conv2D(ave1, W2_node, b2_node, stride=1, padding=True)\n",
    "ave2 = AvePooling(conv2, k=2)\n",
    "flat = Flatten(ave2)\n",
    "l1 = Linear(flat, W3_node, b3_node)\n",
    "tanh = Sigmoid(l1)\n",
    "l2 = Linear(tanh, W4_node, None)\n",
    "mse = MSE(y_node, l2)"
   ]
  },
  {
   "cell_type": "code",
   "execution_count": 8,
   "metadata": {},
   "outputs": [],
   "source": [
    "feed_dict = {\n",
    "    x_node: img,\n",
    "    y_node: np.array([0,1,0,0,0,0,0,0,0,0]),\n",
    "        \n",
    "    W1_node: W1,\n",
    "    b1_node: b1,\n",
    "\n",
    "    W2_node: W2,\n",
    "    b2_node: b2,\n",
    "    \n",
    "    W3_node: W3,\n",
    "    b3_node: b3,\n",
    "    \n",
    "    W4_node: W4\n",
    "}\n",
    "\n",
    "graph = feed_dict_2_graph(feed_dict)    # network graph\n",
    "sorted_graph = topology(graph)          # sorted graph\n",
    "trainables = [W1_node, b1_node, W2_node, b2_node, W3_node, b3_node, W4_node]"
   ]
  },
  {
   "cell_type": "code",
   "execution_count": 9,
   "metadata": {},
   "outputs": [
    {
     "name": "stdout",
     "output_type": "stream",
     "text": [
      "Epoch: 10, Loss: 3.0578\n",
      "Epoch: 20, Loss: 3.4466\n",
      "Epoch: 30, Loss: 4.2445\n",
      "Epoch: 40, Loss: 5.3505\n",
      "Epoch: 50, Loss: 2.5725\n",
      "Epoch: 60, Loss: 2.3173\n",
      "Epoch: 70, Loss: 1.1733\n",
      "Epoch: 80, Loss: 1.6929\n",
      "Epoch: 90, Loss: 4.6165\n",
      "Epoch: 100, Loss: 1.3390\n",
      "Epoch: 110, Loss: 1.1842\n",
      "Epoch: 120, Loss: 3.2967\n",
      "Epoch: 130, Loss: 4.0610\n",
      "Epoch: 140, Loss: 0.6201\n",
      "Epoch: 150, Loss: 0.2854\n",
      "Epoch: 160, Loss: 0.8532\n",
      "Epoch: 170, Loss: 2.9716\n",
      "Epoch: 180, Loss: 1.5569\n",
      "Epoch: 190, Loss: 0.3955\n",
      "Epoch: 200, Loss: 0.7818\n"
     ]
    }
   ],
   "source": [
    "optimizer = 'Adam'\n",
    "lr=1e-2\n",
    "epochs=200\n",
    "\n",
    "# only used for Adam\n",
    "it = 0\n",
    "\n",
    "for i in range(1, epochs+1):\n",
    "    it += 1\n",
    "    # Step 4.1: sample a batch of examples and Reset value\n",
    "    x_node.value = np.array(train.iloc[i]).reshape(28, 28)\n",
    "    y_node.value = np.eye(10)[train_label[i]].reshape(1,-1)\n",
    "\n",
    "    # Step 4.2: forward\n",
    "    for n in sorted_graph:\n",
    "        n.forward()\n",
    "\n",
    "    # Step 4.3: backward\n",
    "    for n in sorted_graph[::-1]:\n",
    "        n.backward()\n",
    "\n",
    "    # Step 4.4: optimization\n",
    "    for t in trainables:\n",
    "        t.optimize(optimizer=optimizer, lr=lr, it=it)\n",
    "\n",
    "    # Step 5: update current loss\n",
    "    loss = sorted_graph[-1].value\n",
    "\n",
    "    if (i+1) % 10 == 0:\n",
    "        print(\"Epoch: {}, Loss: {:.4f}\".format(i+1, loss))"
   ]
  },
  {
   "cell_type": "code",
   "execution_count": 10,
   "metadata": {},
   "outputs": [
    {
     "name": "stdout",
     "output_type": "stream",
     "text": [
      "pred: 6, real: 1\n",
      "pred: 1, real: 0\n",
      "pred: 0, real: 1\n",
      "pred: 7, real: 4\n",
      "pred: 8, real: 0\n",
      "pred: 3, real: 0\n",
      "pred: 1, real: 7\n",
      "pred: 0, real: 3\n",
      "pred: 5, real: 5\n",
      "pred: 1, real: 3\n"
     ]
    }
   ],
   "source": [
    "for i in range(10):\n",
    "    x_node.value = np.array(train.iloc[i]).reshape(28, 28)\n",
    "    for n in sorted_graph[:-1]:\n",
    "        n.forward()\n",
    "    print(f\"pred: {np.argmax(sorted_graph[-2].value)}, real: {train_label[i]}\")"
   ]
  },
  {
   "cell_type": "code",
   "execution_count": 11,
   "metadata": {},
   "outputs": [
    {
     "data": {
      "image/png": "[encoded data removed]",
      "text/plain": [
       "<Figure size 432x288 with 1 Axes>"
      ]
     },
     "metadata": {
      "needs_background": "light"
     },
     "output_type": "display_data"
    }
   ],
   "source": [
    "_ = plt.imshow(conv1.value)"
   ]
  },
  {
   "cell_type": "code",
   "execution_count": 12,
   "metadata": {},
   "outputs": [],
   "source": [
    "def conv(img, kernel_size=3, stride=1, padding=False):\n",
    "    s = stride\n",
    "    if padding:\n",
    "        ud = np.zeros((kernel_size//2, img.shape[1]), dtype=np.int32)\n",
    "        img = np.vstack((ud, img, ud))\n",
    "        lr = np.zeros((img.shape[0], kernel_size//2), dtype=np.int32)\n",
    "        img = np.hstack((lr, img, lr))\n",
    "    assert (img.shape[0]-kernel_size)%s == 0\n",
    "    assert (img.shape[1]-kernel_size)%s == 0\n",
    "    assert s < kernel_size\n",
    "    \n",
    "    filter_ = np.ones((kernel_size, kernel_size))\n",
    "    new_h = (img.shape[0]-kernel_size)//s+1\n",
    "    new_w = (img.shape[1]-kernel_size)//s+1\n",
    "    \n",
    "    nex_img = np.zeros((new_h, new_w))\n",
    "    for i in range(new_h):\n",
    "        for j in range(new_w):\n",
    "            nex_img[i][j] = np.sum(img[i*s:i*s+kernel_size,j*s:j*s+kernel_size]*filter_)\n",
    "    return nex_img\n",
    "\n",
    "def pooling(img, size):\n",
    "    assert (img.shape[0]%size == 0)\n",
    "    assert (img.shape[1]%size == 0)\n",
    "    \n",
    "    new_size = img.shape[0]//size\n",
    "    nex_img = np.zeros((new_size, new_size))\n",
    "    \n",
    "    for i in range(new_size):\n",
    "        for j in range(new_size):\n",
    "            nex_img[i][j] = np.sum(img[i*size:(i+1)*size,j*size:(j+1)*size])/(size**2)\n",
    "    return nex_img"
   ]
  },
  {
   "cell_type": "code",
   "execution_count": 13,
   "metadata": {},
   "outputs": [
    {
     "data": {
      "image/png": "[encoded data removed]",
      "text/plain": [
       "<Figure size 432x288 with 1 Axes>"
      ]
     },
     "metadata": {
      "needs_background": "light"
     },
     "output_type": "display_data"
    }
   ],
   "source": [
    "res = conv(img, kernel_size=3, stride=1, padding=True)\n",
    "_ = plt.imshow(res)"
   ]
  },
  {
   "cell_type": "code",
   "execution_count": 14,
   "metadata": {},
   "outputs": [
    {
     "data": {
      "image/png": "[encoded data removed]",
      "text/plain": [
       "<Figure size 432x288 with 1 Axes>"
      ]
     },
     "metadata": {
      "needs_background": "light"
     },
     "output_type": "display_data"
    }
   ],
   "source": [
    "pooled = pooling(res, size=2)\n",
    "_ = plt.imshow(pooled)"
   ]
  }
 ],
 "metadata": {
  "kernelspec": {
   "display_name": "Python 3",
   "language": "python",
   "name": "python3"
  },
  "language_info": {
   "codemirror_mode": {
    "name": "ipython",
    "version": 3
   },
   "file_extension": ".py",
   "mimetype": "text/x-python",
   "name": "python",
   "nbconvert_exporter": "python",
   "pygments_lexer": "ipython3",
   "version": "3.7.10"
  }
 },
 "nbformat": 4,
 "nbformat_minor": 4
}
