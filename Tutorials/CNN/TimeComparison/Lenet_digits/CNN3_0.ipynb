{
 "cells": [
  {
   "cell_type": "markdown",
   "metadata": {},
   "source": [
    "# Includes Channel and Batch\n",
    "\n",
    "Coded by Lujia Zhong @lujiazho"
   ]
  },
  {
   "cell_type": "code",
   "execution_count": 1,
   "metadata": {
    "colab": {
     "base_uri": "https://localhost:8080/"
    },
    "id": "sgTzTXTGIIA8",
    "outputId": "f04baaa3-2037-471a-ce25-ba694a9b0eea"
   },
   "outputs": [
    {
     "name": "stdout",
     "output_type": "stream",
     "text": [
      "Cloning into 'MachineLearningPlayground'...\n",
      "remote: Enumerating objects: 231, done.\u001b[K\n",
      "remote: Counting objects: 100% (166/166), done.\u001b[K\n",
      "remote: Compressing objects: 100% (125/125), done.\u001b[K\n",
      "remote: Total 231 (delta 67), reused 118 (delta 38), pack-reused 65\u001b[K\n",
      "Receiving objects: 100% (231/231), 25.36 MiB | 34.04 MiB/s, done.\n",
      "Resolving deltas: 100% (75/75), done.\n"
     ]
    }
   ],
   "source": [
    "!git clone https://github.com/lujiazho/MachineLearningPlayground.git"
   ]
  },
  {
   "cell_type": "code",
   "execution_count": 2,
   "metadata": {
    "colab": {
     "base_uri": "https://localhost:8080/"
    },
    "id": "iUvzE3k-IUzi",
    "outputId": "325c98d2-8177-49f7-b9a9-b30d85c62a53"
   },
   "outputs": [
    {
     "name": "stdout",
     "output_type": "stream",
     "text": [
      "/content/MachineLearningPlayground\n"
     ]
    }
   ],
   "source": [
    "%cd MachineLearningPlayground/"
   ]
  },
  {
   "cell_type": "code",
   "execution_count": 3,
   "metadata": {
    "id": "PB40VZO5IEJo"
   },
   "outputs": [],
   "source": [
    "import time\n",
    "import numpy as np\n",
    "import pandas as pd\n",
    "import matplotlib.pyplot as plt\n",
    "\n",
    "from miniml.ann import *\n",
    "from miniml.ann.common import *\n",
    "from miniml.ann.utils import *"
   ]
  },
  {
   "cell_type": "code",
   "execution_count": 4,
   "metadata": {
    "id": "9T39JPu1IEJr"
   },
   "outputs": [],
   "source": [
    "train = pd.read_csv('../train.csv')\n",
    "\n",
    "train_label = train['label']\n",
    "train = train.drop(['label'], axis=1)"
   ]
  },
  {
   "cell_type": "code",
   "execution_count": 5,
   "metadata": {
    "colab": {
     "base_uri": "https://localhost:8080/",
     "height": 265
    },
    "id": "yNeoLDKAIEJt",
    "outputId": "ee5ca38a-7696-47f1-9fb8-aa59ac6972e8"
   },
   "outputs": [
    {
     "data": {
      "image/png": "[encoded data removed]",
      "text/plain": [
       "<Figure size 432x288 with 1 Axes>"
      ]
     },
     "metadata": {
      "needs_background": "light"
     },
     "output_type": "display_data"
    }
   ],
   "source": [
    "img = np.array(train.iloc[0]).reshape(28, 28)\n",
    "_ = plt.imshow(img)"
   ]
  },
  {
   "cell_type": "code",
   "execution_count": 6,
   "metadata": {
    "id": "viMKBCy9IEJv"
   },
   "outputs": [],
   "source": [
    "class Conv2D(Node):\n",
    "    def __init__(self, nodes, weights, bias, output_c, input_c, stride=1, padding=False):\n",
    "        self.output_c = output_c\n",
    "        self.input_c = input_c\n",
    "        self.stride = stride\n",
    "        self.padding = padding\n",
    "        self.bias = True if bias else False\n",
    "        Node.__init__(self, [nodes, weights, bias] if bias else [nodes, weights])\n",
    "\n",
    "    def conv_(self, n_c, n_h, n_w, img, filter_, s=1):\n",
    "        k = filter_.shape[2]\n",
    "        res = np.zeros((self.inputs[0].value.shape[0], n_c, n_h, n_w))\n",
    "        aug = np.repeat(img, filter_.shape[0], axis=0)\n",
    "        aug = aug.reshape(img.shape[0], filter_.shape[0], img.shape[1], img.shape[2], img.shape[3])\n",
    "        for i in range(n_h):\n",
    "            for j in range(n_w):\n",
    "                res[:,:,i,j] = np.sum(aug[:,:,:,i*s:i*s+k,j*s:j*s+k]*filter_, axis=(2,3,4))\n",
    "        return res\n",
    "    \n",
    "    def compare_conv_(self, n_c, n_h, n_w, img, filter_, s=1):\n",
    "        k1, k2 = filter_.shape[2], filter_.shape[3]\n",
    "        res = np.zeros((self.inputs[0].value.shape[0], n_c, n_h, n_w))\n",
    "        \n",
    "        for bt in range(self.inputs[0].value.shape[0]):\n",
    "            for c_o in range(n_c):\n",
    "                res[bt,c_o] += self.inputs[2].value[c_o]\n",
    "                for c_i in range(self.inputs[0].value.shape[1]):\n",
    "                    for i in range(n_h):\n",
    "                        for j in range(n_w):\n",
    "                            for m in range(k1):\n",
    "                                for n in range(k2):\n",
    "                                    res[bt,c_o,i,j] += img[bt,c_i,s*i+m,s*j+n]*filter_[c_o,c_i,m,n]\n",
    "        return res\n",
    "        \n",
    "    def forward(self):\n",
    "        # inputs: [batch, channel_in, hight_in, width_in]\n",
    "        inputs = self.inputs[0].value\n",
    "        # weights: [channel_out, channel_in, kernel_size, kernel_size]\n",
    "        weights = self.inputs[1].value\n",
    "        # bias: [channel_out, 1, 1] or [1, channel_out, 1, 1] is the same\n",
    "        if self.bias:\n",
    "            bias = self.inputs[2].value\n",
    "        k = weights.shape[2]  # kernel size (w equals to h)\n",
    "\n",
    "        s = self.stride\n",
    "        if self.padding:\n",
    "            inputs = np.pad(inputs, ((0,0),(0,0),(k//2,k//2),(k//2,k//2)), 'constant')\n",
    "        assert (inputs.shape[2]-k)%s == 0\n",
    "        assert (inputs.shape[3]-k)%s == 0\n",
    "        assert s < k\n",
    "\n",
    "        n_c = self.output_c\n",
    "        new_h = (inputs.shape[2]-k)//s+1\n",
    "        new_w = (inputs.shape[3]-k)//s+1\n",
    "\n",
    "        # value: [batch, channel_out, hight_out, width_out]\n",
    "        self.value = self.conv_(n_c, new_h, new_w, inputs, weights, s=s) + (bias if self.bias else 0)\n",
    "        # compare_val = self.compare_conv_(n_c, new_h, new_w, inputs, weights, s=s)\n",
    "        # print(np.allclose(self.value, compare_val))\n",
    "    \n",
    "    def backward(self):\n",
    "        # create zero loss for all inputs\n",
    "        self.gradients = {n: np.zeros_like(n.value, dtype=np.float64) for n in self.inputs}\n",
    "        s = self.stride\n",
    "        k = self.inputs[1].value.shape[2]\n",
    "        X = self.inputs[0].value\n",
    "\n",
    "        for n in self.outputs:\n",
    "            # Get the cost w.r.t this node.\n",
    "            grad_y = n.gradients[self]\n",
    "            \n",
    "            # calculate inserted gradient_y\n",
    "            if s > 1:\n",
    "                tmp = np.insert(grad_y.reshape(grad_y.shape[0],grad_y.shape[1],-1,1), 1, [[[[0]]]]*(s-1), axis=3)\n",
    "                tmp = tmp.reshape(grad_y.shape[0],grad_y.shape[1],grad_y.shape[2],-1)[:,:,:,:-(s-1)]\n",
    "                tmp = np.insert(tmp, np.repeat(range(1,grad_y.shape[2]), (s-1)), [0]*tmp.shape[3], axis=2)\n",
    "                inser_grad = np.pad(tmp, ((0,0),(0,0),(k-1,k-1),(k-1,k-1)), 'constant')\n",
    "            else:\n",
    "                inser_grad = np.pad(grad_y, ((0,0),(0,0),(k-1,k-1),(k-1,k-1)), 'constant')\n",
    "            \n",
    "            # W: [ch_out, ch_in, kernel_size, kernel_size], rotate 2 times in h and w dimension\n",
    "            rotated_w = np.rot90(self.inputs[1].value, 2, axes=(2,3))\n",
    "            \n",
    "            # X: [batch, ch_in, height_in, width_in]\n",
    "            n_h = self.gradients[self.inputs[0]].shape[2]\n",
    "            n_w = self.gradients[self.inputs[0]].shape[3]\n",
    "\n",
    "            # A special but useful trick to calculate all together\n",
    "            aug1 = np.repeat(inser_grad, rotated_w.shape[1], axis=1)\n",
    "            aug1 = aug1.reshape(inser_grad.shape[0], inser_grad.shape[1], \n",
    "                                rotated_w.shape[1], inser_grad.shape[2], inser_grad.shape[3])\n",
    "            aug2 = np.repeat(rotated_w, aug1.shape[1], axis=0)\n",
    "            aug2 = aug2.reshape(rotated_w.shape[0], aug1.shape[1], \n",
    "                                rotated_w.shape[1], rotated_w.shape[2], rotated_w.shape[3])\n",
    "            re_aug1 = np.repeat(aug1, aug2.shape[0], axis=0)\n",
    "            re_aug1 = re_aug1.reshape(aug1.shape[0], aug2.shape[0], \n",
    "                                aug1.shape[1], aug1.shape[2], aug1.shape[3], aug1.shape[4])\n",
    "\n",
    "            grad_X = np.zeros_like(X, dtype=np.float64)\n",
    "            shift = k//2 if self.padding else 0\n",
    "            for i in range(n_h):\n",
    "                for j in range(n_w):\n",
    "                    # dim 0 for batch, dim 1 and 2 for ch_out, dim 3 for ch_in, dim 4 and 5 for h&w\n",
    "                    grad_X[:,:,i,j] = np.sum(re_aug1[:,:,:,:,i+shift:i+shift+k,j+shift:j+shift+k]*aug2, axis=(1,2,4,5))\n",
    "\n",
    "            # k1, k2 = rotated_w.shape[2], rotated_w.shape[3]\n",
    "            \n",
    "            # compare_grad_X = np.zeros_like(X, dtype=np.float64)\n",
    "            # for bt in range(X.shape[0]):\n",
    "            #     for c_o in range(self.inputs[1].value.shape[0]):\n",
    "            #         for c_i in range(X.shape[1]):\n",
    "            #             for i in range(n_h):\n",
    "            #                 for j in range(n_w):\n",
    "            #                     compare_grad_X[bt,c_i,i,j] += np.sum(inser_grad[bt,c_o,i:i+k1,j:j+k2]*rotated_w[c_o,c_i])\n",
    "            # print(np.allclose(compare_grad_X, grad_X))\n",
    "\n",
    "            self.gradients[self.inputs[0]] += grad_X\n",
    "            \n",
    "            # W: [ch_out, ch_in, kernel_size, kernel_size]\n",
    "            aug1 = np.repeat(inser_grad, X.shape[1], axis=1)\n",
    "            aug1 = aug1.reshape(inser_grad.shape[0], inser_grad.shape[1], X.shape[1],\n",
    "                                inser_grad.shape[2], inser_grad.shape[3])\n",
    "            aug2 = np.repeat(X, aug1.shape[1], axis=0)\n",
    "            aug2 = aug2.reshape(X.shape[0], aug1.shape[1], X.shape[1], X.shape[2], X.shape[3])\n",
    "            re_aug1 = np.repeat(aug1, aug2.shape[0], axis=0)\n",
    "            re_aug1 = re_aug1.reshape(aug1.shape[0], aug2.shape[0], \n",
    "                                aug1.shape[1], aug1.shape[2], aug1.shape[3], aug1.shape[4])\n",
    "            \n",
    "            grad_W = np.zeros_like(self.inputs[1].value, dtype=np.float64)\n",
    "            \n",
    "            for i in range(grad_W.shape[2]):\n",
    "                for j in range(grad_W.shape[3]):\n",
    "                    # dim 0 and 1 are for batch, 4 and 5 are for h and w, 2 and 3 are for ch_out and ch_in\n",
    "                    grad_W[:,:,i,j] = np.sum(re_aug1[:,:,:,:,i:i+X.shape[2],j:j+X.shape[3]]*aug2, axis=(0,1,4,5))\n",
    "            self.gradients[self.inputs[1]] += np.rot90(grad_W, 2, axes=(2,3))\n",
    "            \n",
    "            if self.bias:\n",
    "                self.gradients[self.inputs[2]] += np.sum(grad_y, \n",
    "                                                         axis=(0,2,3), \n",
    "                                                         keepdims=False).reshape(grad_y.shape[1],1,1)\n",
    "            \n",
    "            # k1, k2 = X.shape[2], X.shape[3]\n",
    "            \n",
    "            # compare_grad_W = np.zeros_like(self.inputs[1].value, dtype=np.float64)\n",
    "            # for bt in range(X.shape[0]):\n",
    "            #     for c_o in range(self.inputs[1].value.shape[0]):\n",
    "            #         for c_i in range(X.shape[1]):\n",
    "            #             for i in range(compare_grad_W.shape[2]):\n",
    "            #                 for j in range(compare_grad_W.shape[3]):\n",
    "            #                     compare_grad_W[c_o,c_i,i,j] += np.sum(inser_grad[bt,c_o,i:i+k1,j:j+k2]*X[bt,c_i])\n",
    "            # print(np.allclose(compare_grad_W, grad_W), )"
   ]
  },
  {
   "cell_type": "code",
   "execution_count": 7,
   "metadata": {
    "id": "Ogd1Qw6YIEJz"
   },
   "outputs": [],
   "source": [
    "class AvePooling(Node):\n",
    "    def __init__(self, nodes, k=3):\n",
    "        self.k = k\n",
    "        Node.__init__(self, [nodes])\n",
    "\n",
    "    def conv_(self, n_c, n_h, n_w, img, filter_, s=1):\n",
    "        k = self.k\n",
    "        res = np.zeros((self.inputs[0].value.shape[0], n_c, n_h, n_w))\n",
    "        for i in range(n_h):\n",
    "            for j in range(n_w):\n",
    "                res[:,:,i,j] = np.sum(img[:,:,i*s:i*s+k,j*s:j*s+k]*filter_, axis=(2,3))\n",
    "        return res\n",
    "    \n",
    "    def compare_conv_(self, n_c, n_h, n_w, img, filter_, s=1):\n",
    "        k = self.k\n",
    "        res = np.zeros((self.inputs[0].value.shape[0], n_c, n_h, n_w))\n",
    "        for bt in range(res.shape[0]):\n",
    "            for c_i in range(n_c):\n",
    "                for i in range(n_h):\n",
    "                    for j in range(n_w):\n",
    "                        res[bt,c_i,i,j] = np.sum(img[bt,c_i,i*s:i*s+k,j*s:j*s+k]*filter_)\n",
    "        return res\n",
    "\n",
    "    def forward(self):\n",
    "        inputs = self.inputs[0].value\n",
    "        k = self.k\n",
    "        \n",
    "        assert inputs.shape[2]%k == 0\n",
    "        assert inputs.shape[3]%k == 0\n",
    "        assert k > 1\n",
    "\n",
    "        filter_ = np.ones((k, k))/(k*k)\n",
    "        new_h = inputs.shape[2]//k\n",
    "        new_w = inputs.shape[3]//k\n",
    "        \n",
    "        self.value = self.conv_(inputs.shape[1], new_h, new_w, inputs, filter_, s=k)\n",
    "        # compare_val = self.compare_conv_(inputs.shape[1], new_h, new_w, inputs, filter_, s=k)\n",
    "        # print(np.allclose(self.value, compare_val))\n",
    "    \n",
    "    def backward(self):\n",
    "        # create zero loss for all inputs\n",
    "        self.gradients = {n: np.zeros_like(n.value, dtype=np.float64) for n in self.inputs}\n",
    "        s = k = self.k\n",
    "        X = self.inputs[0].value\n",
    "\n",
    "        for n in self.outputs:\n",
    "            # Get the cost w.r.t this node.\n",
    "            grad_y = n.gradients[self]\n",
    "\n",
    "            tmp = np.insert(grad_y.reshape(grad_y.shape[0],grad_y.shape[1],-1,1), 1, [[[[0]]]]*(s-1), axis=3)\n",
    "            tmp = tmp.reshape(grad_y.shape[0],grad_y.shape[1],grad_y.shape[2],-1)[:,:,:,:-(s-1)]\n",
    "            tmp = np.insert(tmp, np.repeat(range(1,grad_y.shape[2]), (s-1)), [0]*tmp.shape[3], axis=2)\n",
    "            inser_grad = np.pad(tmp, ((0,0),(0,0),(k-1,k-1),(k-1,k-1)), 'constant')\n",
    "            \n",
    "            w = np.ones((k, k))/(k*k)\n",
    "            \n",
    "            n_h = self.gradients[self.inputs[0]].shape[2]\n",
    "            n_w = self.gradients[self.inputs[0]].shape[3]\n",
    "            self.gradients[self.inputs[0]] += self.conv_(X.shape[1], n_h, n_w, inser_grad, w, s=1)\n",
    "            # compare_val = self.compare_conv_(X.shape[1], n_h, n_w, inser_grad, w, s=1)\n",
    "            # print(np.allclose(self.gradients[self.inputs[0]], compare_val))"
   ]
  },
  {
   "cell_type": "code",
   "execution_count": 8,
   "metadata": {
    "id": "ZKuoGfzAIEJ1"
   },
   "outputs": [],
   "source": [
    "class Flatten(Node):\n",
    "    def __init__(self, nodes):\n",
    "        Node.__init__(self, [nodes])\n",
    "        \n",
    "    def forward(self):\n",
    "        inputs = self.inputs[0].value\n",
    "        self.value = inputs.flatten().reshape(inputs.shape[0],-1)\n",
    "    \n",
    "    def backward(self):\n",
    "        # create zero loss for all inputs\n",
    "        self.gradients = {n: np.zeros_like(n.value, dtype=np.float64) for n in self.inputs}\n",
    "        X = self.inputs[0].value\n",
    "\n",
    "        for n in self.outputs:\n",
    "            # Get the cost w.r.t this node.\n",
    "            grad_cost = n.gradients[self]\n",
    "            self.gradients[self.inputs[0]] += grad_cost.reshape(X.shape)"
   ]
  },
  {
   "cell_type": "code",
   "execution_count": 9,
   "metadata": {
    "id": "Z10_fQmJIEJ2"
   },
   "outputs": [],
   "source": [
    "W1 = np.random.randn(6, 1, 5, 5)\n",
    "b1 = np.random.randn(6, 1, 1)\n",
    "\n",
    "W2 = np.random.randn(16, 6, 5, 5)\n",
    "b2 = np.random.randn(16, 1, 1)\n",
    "\n",
    "W3 = np.random.randn(256, 120)\n",
    "b3 = np.random.randn(120)\n",
    "\n",
    "W4 = np.random.randn(120, 84)\n",
    "b4 = np.random.randn(84)\n",
    "\n",
    "W5 = np.random.randn(84, 10)\n",
    "\n",
    "x_node, y_node = Placeholder(), Placeholder()\n",
    "\n",
    "W1_node = Placeholder()\n",
    "b1_node = Placeholder()\n",
    "\n",
    "W2_node = Placeholder()\n",
    "b2_node = Placeholder()\n",
    "\n",
    "W3_node = Placeholder()\n",
    "b3_node = Placeholder()\n",
    "\n",
    "W4_node = Placeholder()\n",
    "b4_node = Placeholder()\n",
    "\n",
    "W5_node = Placeholder()\n",
    "\n",
    "conv1 = Conv2D(x_node, W1_node, b1_node, output_c=6, input_c=1, stride=1, padding=False)\n",
    "ave1 = AvePooling(conv1, k=2)\n",
    "conv2 = Conv2D(ave1, W2_node, b2_node, output_c=16, input_c=6, stride=1, padding=False)\n",
    "ave2 = AvePooling(conv2, k=2)\n",
    "flat = Flatten(ave2)\n",
    "l1 = Linear(flat, W3_node, b3_node)\n",
    "sigmoid1 = Sigmoid(l1)\n",
    "l2 = Linear(sigmoid1, W4_node, b4_node)\n",
    "sigmoid2 = Sigmoid(l2)\n",
    "l3 = Linear(sigmoid2, W5_node, None)\n",
    "sigmoid3 = Sigmoid(l3)\n",
    "mse = MSE(y_node, sigmoid3)"
   ]
  },
  {
   "cell_type": "code",
   "execution_count": 10,
   "metadata": {
    "id": "-HJYj_0oIEJ3"
   },
   "outputs": [],
   "source": [
    "feed_dict = {\n",
    "    x_node: np.array([img]),\n",
    "    y_node: np.array([0,1,0,0,0,0,0,0,0,0]),\n",
    "\n",
    "    W1_node: W1,\n",
    "    b1_node: b1,\n",
    "\n",
    "    W2_node: W2,\n",
    "    b2_node: b2,\n",
    "    \n",
    "    W3_node: W3,\n",
    "    b3_node: b3,\n",
    "    \n",
    "    W4_node: W4,\n",
    "    b4_node: b4,\n",
    "    \n",
    "    W5_node: W5\n",
    "}\n",
    "\n",
    "graph = feed_dict_2_graph(feed_dict)    # network graph\n",
    "sorted_graph = topology(graph)          # sorted graph\n",
    "trainables = [W1_node, b1_node, W2_node, b2_node, W3_node, b3_node, W4_node, b4_node, W5_node]"
   ]
  },
  {
   "cell_type": "code",
   "execution_count": 11,
   "metadata": {
    "colab": {
     "base_uri": "https://localhost:8080/"
    },
    "id": "PknToxUlIEJ5",
    "outputId": "a260ba6c-d8d6-4069-b8a0-c4804c35c121"
   },
   "outputs": [
    {
     "name": "stdout",
     "output_type": "stream",
     "text": [
      "Epoch: 1, Loss: 0.1051\n",
      "Epoch: 2, Loss: 0.0804\n",
      "Epoch: 3, Loss: 0.0726\n",
      "Epoch: 4, Loss: 0.0714\n",
      "Epoch: 5, Loss: 0.0632\n",
      "Epoch: 6, Loss: 0.0619\n",
      "Epoch: 7, Loss: 0.0572\n",
      "Epoch: 8, Loss: 0.0525\n",
      "Epoch: 9, Loss: 0.0511\n",
      "Epoch: 10, Loss: 0.0483\n",
      "Epoch: 11, Loss: 0.0455\n",
      "Epoch: 12, Loss: 0.0422\n",
      "Epoch: 13, Loss: 0.0438\n",
      "Epoch: 14, Loss: 0.0506\n",
      "Epoch: 15, Loss: 0.0474\n",
      "Epoch: 16, Loss: 0.0511\n",
      "Epoch: 17, Loss: 0.0497\n",
      "Epoch: 18, Loss: 0.0502\n",
      "Epoch: 19, Loss: 0.0458\n",
      "Epoch: 20, Loss: 0.0487\n",
      "72.1865 sec/epoch\n"
     ]
    }
   ],
   "source": [
    "start_time = time.time()\n",
    "optimizer = 'Adam'\n",
    "lr = 1e-2\n",
    "epochs = 20\n",
    "batch = 2\n",
    "\n",
    "# only used for Adam\n",
    "it = 0\n",
    "\n",
    "for i in range(1, epochs+1):\n",
    "    it += 1\n",
    "    losses = []\n",
    "    for j in range(1, 1000, batch):\n",
    "        # Step 4.1: sample a batch of examples and Reset value\n",
    "        x_node.value = np.array(train.iloc[j:j+batch]).reshape(batch, 1, 28, 28)\n",
    "        y_node.value = np.eye(10)[train_label[j:j+batch]].reshape(batch,-1)\n",
    "\n",
    "        # Step 4.2: forward\n",
    "        for n in sorted_graph:\n",
    "            n.forward()\n",
    "\n",
    "        # Step 4.3: backward\n",
    "        for n in sorted_graph[::-1]:\n",
    "            n.backward()\n",
    "\n",
    "        # Step 4.4: optimization\n",
    "        for t in trainables:\n",
    "            t.optimize(optimizer=optimizer, lr=lr, it=it)\n",
    "\n",
    "        # Step 5: update current loss\n",
    "        loss = sorted_graph[-1].value\n",
    "        \n",
    "        losses.append(loss)\n",
    "\n",
    "    if (i+1) % 1 == 0:\n",
    "        print(\"Epoch: {}, Loss: {:.4f}\".format(i, np.mean(losses)))\n",
    "print(f\"{((time.time() - start_time)/epochs):.4f} sec/epoch\")"
   ]
  },
  {
   "cell_type": "code",
   "execution_count": 12,
   "metadata": {
    "colab": {
     "base_uri": "https://localhost:8080/"
    },
    "id": "JcPtg8qBIEJ6",
    "outputId": "53e31cb9-abdd-4d8b-c8e4-17d8b3c99790"
   },
   "outputs": [
    {
     "name": "stdout",
     "output_type": "stream",
     "text": [
      "0.686\n"
     ]
    }
   ],
   "source": [
    "preds = []\n",
    "reals = []\n",
    "for i in range(1):\n",
    "    x_node.value = np.array(train.iloc[i:i+1000]).reshape(1000, 1, 28, 28)\n",
    "    for n in sorted_graph[:-1]:\n",
    "        n.forward()\n",
    "    preds.append(np.argmax(sorted_graph[-2].value, axis=1))\n",
    "    reals.append(train_label[i:i+1000])\n",
    "print(np.sum(np.array(preds)==np.array(reals))/1000)"
   ]
  },
  {
   "cell_type": "code",
   "execution_count": 13,
   "metadata": {
    "colab": {
     "base_uri": "https://localhost:8080/",
     "height": 201
    },
    "id": "2WVx93JgIEJ7",
    "outputId": "d469cefb-7914-46eb-a07e-d652718fbcbe"
   },
   "outputs": [
    {
     "data": {
      "image/png": "[encoded data removed]",
      "text/plain": [
       "<Figure size 432x288 with 2 Axes>"
      ]
     },
     "metadata": {
      "needs_background": "light"
     },
     "output_type": "display_data"
    }
   ],
   "source": [
    "plt.subplot(121)\n",
    "plt.imshow(conv1.value[1][0])\n",
    "plt.subplot(122)\n",
    "plt.imshow(conv1.value[1][1])\n",
    "plt.show()"
   ]
  },
  {
   "cell_type": "code",
   "execution_count": 14,
   "metadata": {
    "colab": {
     "base_uri": "https://localhost:8080/",
     "height": 121
    },
    "id": "zhrv-5QZIEJ8",
    "outputId": "088b40cc-45c2-40cb-ce49-6c86c519db3f"
   },
   "outputs": [
    {
     "data": {
      "image/png": "[encoded data removed]",
      "text/plain": [
       "<Figure size 432x288 with 4 Axes>"
      ]
     },
     "metadata": {
      "needs_background": "light"
     },
     "output_type": "display_data"
    }
   ],
   "source": [
    "plt.subplot(141)\n",
    "plt.imshow(conv2.value[1][0])\n",
    "plt.subplot(142)\n",
    "plt.imshow(conv2.value[1][1])\n",
    "plt.subplot(143)\n",
    "plt.imshow(conv2.value[1][2])\n",
    "plt.subplot(144)\n",
    "plt.imshow(conv2.value[1][3])\n",
    "plt.show()"
   ]
  }
 ],
 "metadata": {
  "colab": {
   "name": "CNN3.0.ipynb",
   "provenance": []
  },
  "kernelspec": {
   "display_name": "Python 3",
   "language": "python",
   "name": "python3"
  },
  "language_info": {
   "codemirror_mode": {
    "name": "ipython",
    "version": 3
   },
   "file_extension": ".py",
   "mimetype": "text/x-python",
   "name": "python",
   "nbconvert_exporter": "python",
   "pygments_lexer": "ipython3",
   "version": "3.7.10"
  }
 },
 "nbformat": 4,
 "nbformat_minor": 4
}
