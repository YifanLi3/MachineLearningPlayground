{
  "nbformat": 4,
  "nbformat_minor": 0,
  "metadata": {
    "colab": {
      "provenance": [],
      "authorship_tag": "ABX9TyNmU6yCDr3KtmghaDrvHk9z",
      "include_colab_link": true
    },
    "kernelspec": {
      "name": "python3",
      "display_name": "Python 3"
    },
    "language_info": {
      "name": "python"
    }
  },
  "cells": [
    {
      "cell_type": "markdown",
      "metadata": {
        "id": "view-in-github",
        "colab_type": "text"
      },
      "source": [
        "<a href=\"https://colab.research.google.com/github/YifanLi3/MachineLearningPlayground/blob/main/forward.ipynb\" target=\"_parent\"><img src=\"https://colab.research.google.com/assets/colab-badge.svg\" alt=\"Open In Colab\"/></a>"
      ]
    },
    {
      "cell_type": "code",
      "execution_count": 3,
      "metadata": {
        "colab": {
          "base_uri": "https://localhost:8080/"
        },
        "id": "1piwn4ZZ9rEh",
        "outputId": "80d1bf66-7f1f-49f5-e460-fc141c974513"
      },
      "outputs": [
        {
          "output_type": "stream",
          "name": "stdout",
          "text": [
            "(60000, 28, 28) (60000,) <dtype: 'float32'> <dtype: 'int32'>\n"
          ]
        }
      ],
      "source": [
        "import tensorflow as tf\n",
        "from tensorflow import keras\n",
        "from tensorflow.keras import datasets\n",
        "from tensorflow.keras.datasets import mnist\n",
        "\n",
        "#\n",
        "(x, y), _ = mnist.load_data()\n",
        "x = tf.convert_to_tensor(x, dtype=tf.float32)\n",
        "y = tf.convert_to_tensor(y, dtype=tf.int32)\n",
        "print (x.shape, y.shape, x.dtype, y.dtype)"
      ]
    },
    {
      "cell_type": "code",
      "source": [],
      "metadata": {
        "id": "P96FzdAB-LJj"
      },
      "execution_count": null,
      "outputs": []
    }
  ]
}