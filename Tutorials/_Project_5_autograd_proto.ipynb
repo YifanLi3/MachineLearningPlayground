{
 "cells": [
  {
   "cell_type": "markdown",
   "metadata": {},
   "source": [
    "**Operator Magic Method**\n",
    "\n",
    "```python\n",
    "Binary Operators:                Comparison Operators:        Assignment Operators:\n",
    "+   __add__(self, other)         <   __lt__(self, other)      -=   __isub__(self, other)\n",
    "–   __sub__(self, other)         >   __gt__(self, other)      +=   __iadd__(self, other)\n",
    "*   __mul__(self, other)         <=  __le__(self, other)      *=   __imul__(self, other)\n",
    "/   __truediv__(self, other)     >=  __ge__(self, other)      /=   __idiv__(self, other)\n",
    "//  __floordiv__(self, other)    ==  __eq__(self, other)      //=  __ifloordiv__(self, other)\n",
    "%   __mod__(self, other)         !=  __ne__(self, other)      %=   __imod__(self, other)\n",
    "**  __pow__(self, other)                                      **=  __ipow__(self, other)\n",
    ">>  __rshift__(self, other)                                   >>=  __irshift__(self, other)\n",
    "<<  __lshift__(self, other)      Unary Operators:             <<=  __ilshift__(self, other)\n",
    "&   __and__(self, other)         –   __neg__(self)            &=   __iand__(self, other)\n",
    "|   __or__(self, other)          +   __pos__(self)            |=   __ior__(self, other)\n",
    "^   __xor__(self, other)         ~   __invert__(self)         ^=   __ixor__(self, other)\n",
    "```"
   ]
  },
  {
   "cell_type": "code",
   "execution_count": 1,
   "metadata": {},
   "outputs": [],
   "source": [
    "import numpy as np\n",
    "from matplotlib import pyplot as plt\n",
    "\n",
    "class Tensor:\n",
    "    def __init__(self, val, requires_grad=False, grad_fn=None, depends_on=[]):\n",
    "        self.val = val\n",
    "        self.requires_grad = requires_grad\n",
    "        self.grad_fn = grad_fn\n",
    "        self.depends_on = depends_on\n",
    "        self.grad = 0\n",
    "    \n",
    "    def backward(self, grad=1):\n",
    "        self.grad += grad\n",
    "        \n",
    "        for tensor, cache in self.depends_on:\n",
    "            _grad = self.grad_fn(grad, tensor, cache)\n",
    "            tensor.backward(_grad)\n",
    "    \n",
    "    # for +, python invoke the front object's __add__ in default\n",
    "    def __add__(self, other):\n",
    "        assert isinstance(other, (Tensor, int, float)), f\"Unsupported Add between Tensor and {type(other)}.\"\n",
    "        \n",
    "        depends_on = []\n",
    "        grad_fn = AddBackward\n",
    "        requires_grad = self.requires_grad\n",
    "        if self.requires_grad:\n",
    "            depends_on.append((self, []))\n",
    "            \n",
    "        if isinstance(other, Tensor):\n",
    "            val = self.val + other.val\n",
    "            requires_grad = requires_grad or other.requires_grad\n",
    "            if other.requires_grad:\n",
    "                depends_on.append((other, []))\n",
    "        else:\n",
    "            val = self.val + other\n",
    "        \n",
    "        return Tensor(val, requires_grad, grad_fn, depends_on)\n",
    "    \n",
    "    # if the front object's __add__ is not supported for this +, then python invoke second object's __radd__\n",
    "    def __radd__(self, other):\n",
    "        return self.__add__(other)\n",
    "    \n",
    "    def __sub__(self, other):\n",
    "        assert isinstance(other, (Tensor, int, float)), f\"Unsupported Sub between Tensor and {type(other)}.\"\n",
    "        \n",
    "        depends_on = []\n",
    "        grad_fn = SubBackward\n",
    "        requires_grad = self.requires_grad\n",
    "        \n",
    "        if self.requires_grad:\n",
    "            depends_on.append((self, [1])) # 1 indicates left val\n",
    "        \n",
    "        if isinstance(other, Tensor):\n",
    "            val = self.val - other.val\n",
    "            requires_grad = requires_grad or other.requires_grad\n",
    "            if other.requires_grad:\n",
    "                depends_on.append((other, [-1])) # -1 indicates right val\n",
    "        else:\n",
    "            val = self.val - other\n",
    "        \n",
    "        return Tensor(val, requires_grad, grad_fn, depends_on)\n",
    "    \n",
    "    def __rsub__(self, other):\n",
    "        \"\"\"Do not just use unary minus for avoiding adding a new tensor in backward chain\"\"\"\n",
    "        assert isinstance(other, (int, float)), f\"Unsupported Sub between {type(other)} and Tensor.\"\n",
    "        \n",
    "        depends_on = []\n",
    "        grad_fn = SubBackward\n",
    "        requires_grad = self.requires_grad\n",
    "        \n",
    "        val = other - self.val\n",
    "        if self.requires_grad:\n",
    "            depends_on.append((self, [-1])) # -1 indicates right val\n",
    "        \n",
    "        return Tensor(val, requires_grad, grad_fn, depends_on)\n",
    "    \n",
    "    def __mul__(self, other):\n",
    "        assert isinstance(other, (Tensor, int, float)), f\"Unsupported Mul between Tensor and {type(other)}.\"\n",
    "        \n",
    "        depends_on = []\n",
    "        grad_fn = MulBackward\n",
    "        requires_grad = self.requires_grad\n",
    "        \n",
    "        if isinstance(other, Tensor):\n",
    "            val = self.val * other.val\n",
    "            requires_grad = requires_grad or other.requires_grad\n",
    "            if self.requires_grad:\n",
    "                depends_on.append((self, [other.val]))\n",
    "            \n",
    "            if other.requires_grad:\n",
    "                depends_on.append((other, [self.val]))\n",
    "        else:\n",
    "            val = self.val * other\n",
    "            if self.requires_grad:\n",
    "                depends_on.append((self, [other])) # cache another value for derivative\n",
    "        \n",
    "        return Tensor(val, requires_grad, grad_fn, depends_on)\n",
    "    \n",
    "    def __rmul__(self, other):\n",
    "        return self.__mul__(other)\n",
    "    \n",
    "    def __pow__(self, power):\n",
    "        assert isinstance(power, (int, float)), f\"Unsupported Pow between Tensor and {type(other)}.\"\n",
    "        \n",
    "        depends_on = []\n",
    "        grad_fn = PowBackward\n",
    "        requires_grad = self.requires_grad\n",
    "        \n",
    "        val = np.power(self.val, power)\n",
    "        if self.requires_grad:\n",
    "            depends_on.append((self, [power]))\n",
    "            \n",
    "        return Tensor(val, requires_grad, grad_fn, depends_on)\n",
    "    \n",
    "    def __neg__(self):\n",
    "        depends_on = []\n",
    "        grad_fn = NegBackward\n",
    "        requires_grad = self.requires_grad\n",
    "        \n",
    "        val = -self.val\n",
    "        if self.requires_grad:\n",
    "            depends_on.append((self, [-1]))\n",
    "        \n",
    "        return Tensor(val, requires_grad, grad_fn, depends_on)\n",
    "    \n",
    "    def exp(self):        \n",
    "        depends_on = []\n",
    "        grad_fn = ExpBackward\n",
    "        requires_grad = self.requires_grad\n",
    "        \n",
    "        val = np.exp(self.val)\n",
    "        if self.requires_grad:\n",
    "            depends_on.append((self, [val]))\n",
    "            \n",
    "        return Tensor(val, requires_grad, grad_fn, depends_on)\n",
    "    \n",
    "    def __lt__(self, other):\n",
    "        assert isinstance(other, (Tensor, int, float)), f\"Unsupported '<' between Tensor and {type(other)}.\"\n",
    "        \n",
    "        return self.val < (other.val if isinstance(other, Tensor) else other)\n",
    "    \n",
    "    def __gt__(self, other):\n",
    "        assert isinstance(other, (Tensor, int, float)), f\"Unsupported '>' between Tensor and {type(other)}.\"\n",
    "        \n",
    "        return self.val > (other.val if isinstance(other, Tensor) else other)\n",
    "    \n",
    "def AddBackward(grad, tensor, cache):\n",
    "    return grad * np.ones_like(tensor.val)\n",
    "\n",
    "def SubBackward(grad, tensor, cache):\n",
    "    \"\"\"grad * cache[0] == grad * np.ones_like(tensor.val) * cache[0]\"\"\"\n",
    "    return grad * np.ones_like(tensor.val) * cache[0]\n",
    "\n",
    "def MulBackward(grad, tensor, cache):\n",
    "    return grad * cache[0]\n",
    "\n",
    "def PowBackward(grad, tensor, cache):\n",
    "    power = cache[0]\n",
    "    return grad * power * np.power(tensor.val, power-1)\n",
    "\n",
    "def NegBackward(grad, tensor, cache):\n",
    "    \"\"\"grad * cache[0] == grad * np.ones_like(tensor.val) * cache[0]\"\"\"\n",
    "    return grad * np.ones_like(tensor.val) * cache[0]\n",
    "\n",
    "def ExpBackward(grad, tensor, cache):\n",
    "    \"\"\"cache[0] == np.exp(tensor.val)\"\"\"\n",
    "    return grad * cache[0]"
   ]
  },
  {
   "cell_type": "markdown",
   "metadata": {},
   "source": [
    "**Helper Function**"
   ]
  },
  {
   "cell_type": "code",
   "execution_count": 2,
   "metadata": {},
   "outputs": [],
   "source": [
    "def plot(x, y=[], title=None):\n",
    "    if title:\n",
    "        plt.title(title) \n",
    "    if y:\n",
    "        for line in y:\n",
    "            plt.plot(x, line[0], label=line[1])\n",
    "    else:\n",
    "        plt.plot(x)\n",
    "    plt.grid(True)\n",
    "    plt.legend()\n",
    "    plt.show()"
   ]
  },
  {
   "cell_type": "markdown",
   "metadata": {},
   "source": [
    "**Draw Ricker Wavelet Function**"
   ]
  },
  {
   "cell_type": "code",
   "execution_count": 3,
   "metadata": {},
   "outputs": [
    {
     "data": {
      "image/png": "[encoded data removed]",
      "text/plain": [
       "<Figure size 432x288 with 1 Axes>"
      ]
     },
     "metadata": {
      "needs_background": "light"
     },
     "output_type": "display_data"
    }
   ],
   "source": [
    "# Params\n",
    "f = 3\n",
    "pi = 3.14\n",
    "precision = 500\n",
    "# Domain\n",
    "t = np.linspace(-1, 1, precision)\n",
    "\n",
    "# Ricker wavelet function\n",
    "ricker = (1-2*(pi*f*t)**2)*np.exp(-(pi*f*t)**2)\n",
    "\n",
    "# Ricker wavelet function with autograd, which should be the same as above function\n",
    "v_t = Tensor(t, requires_grad=True)\n",
    "v_ricker = (1-2*(pi*f*v_t)**2)*(-(pi*f*v_t)**2).exp()\n",
    "v_ricker.backward() # get first derivative\n",
    "\n",
    "plot(t, [(ricker, 'Ricker wavelet'), (v_ricker.val, 'Tensor Ricker')])"
   ]
  },
  {
   "cell_type": "markdown",
   "metadata": {},
   "source": [
    "**Plot 3 types of derivatives**"
   ]
  },
  {
   "cell_type": "code",
   "execution_count": 4,
   "metadata": {},
   "outputs": [
    {
     "data": {
      "image/png": "[encoded data removed]",
      "text/plain": [
       "<Figure size 432x288 with 1 Axes>"
      ]
     },
     "metadata": {
      "needs_background": "light"
     },
     "output_type": "display_data"
    }
   ],
   "source": [
    "# numerical differentiation\n",
    "delta_t = t[1]-t[0]\n",
    "nd_ricker = np.zeros(precision)\n",
    "nd_ricker[1:-1] = (ricker[2::]-ricker[0:-2])/(2*delta_t)\n",
    "\n",
    "# symbolic derivation\n",
    "sd_ricker = 2*f**2*pi**2*t*(2*f**2*pi**2*t**2-3)*np.exp(-f**2*pi**2*t**2)\n",
    "\n",
    "# autograd\n",
    "autograd = v_t.grad\n",
    "\n",
    "# all above should be approximately the same, but numerical derivative would cause a little error\n",
    "plot(t,[(nd_ricker, 'numerical'), (sd_ricker, 'symbolic'), (autograd, 'autograd')])"
   ]
  },
  {
   "cell_type": "markdown",
   "metadata": {},
   "source": [
    "**Compare symbolic (accurate value) with the other two**"
   ]
  },
  {
   "cell_type": "code",
   "execution_count": 5,
   "metadata": {},
   "outputs": [
    {
     "data": {
      "image/png": "[encoded data removed]",
      "text/plain": [
       "<Figure size 432x288 with 1 Axes>"
      ]
     },
     "metadata": {
      "needs_background": "light"
     },
     "output_type": "display_data"
    }
   ],
   "source": [
    "plot(t, [(nd_ricker-sd_ricker, 'symbolic-numerical'), (v_t.grad-sd_ricker, 'symbolic-autograd')])"
   ]
  }
 ],
 "metadata": {
  "kernelspec": {
   "display_name": "Python 3",
   "language": "python",
   "name": "python3"
  },
  "language_info": {
   "codemirror_mode": {
    "name": "ipython",
    "version": 3
   },
   "file_extension": ".py",
   "mimetype": "text/x-python",
   "name": "python",
   "nbconvert_exporter": "python",
   "pygments_lexer": "ipython3",
   "version": "3.7.10"
  }
 },
 "nbformat": 4,
 "nbformat_minor": 4
}
