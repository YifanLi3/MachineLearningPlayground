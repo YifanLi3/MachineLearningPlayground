{
 "cells": [
  {
   "cell_type": "markdown",
   "metadata": {},
   "source": [
    "# No Batch but Channel\n",
    "\n",
    "Coded by Lujia Zhong @lujiazho"
   ]
  },
  {
   "cell_type": "code",
   "execution_count": 1,
   "metadata": {},
   "outputs": [],
   "source": [
    "import numpy as np\n",
    "import pandas as pd\n",
    "import matplotlib.pyplot as plt\n",
    "\n",
    "from miniml.ann import *\n",
    "from miniml.ann.common import *\n",
    "from miniml.ann.utils import *"
   ]
  },
  {
   "cell_type": "code",
   "execution_count": 2,
   "metadata": {},
   "outputs": [],
   "source": [
    "train = pd.read_csv('./datasets/digit-recognizer/train.csv')\n",
    "training_data = pd.read_csv('./datasets/digit-recognizer/train.csv')\n",
    "\n",
    "train_label = train['label']\n",
    "train = train.drop(['label'], axis=1)"
   ]
  },
  {
   "cell_type": "code",
   "execution_count": 3,
   "metadata": {},
   "outputs": [
    {
     "data": {
      "image/png": "[encoded data removed]",
      "text/plain": [
       "<Figure size 432x288 with 1 Axes>"
      ]
     },
     "metadata": {
      "needs_background": "light"
     },
     "output_type": "display_data"
    }
   ],
   "source": [
    "img = np.array(train.iloc[0]).reshape(28, 28)\n",
    "_ = plt.imshow(img)"
   ]
  },
  {
   "cell_type": "code",
   "execution_count": 4,
   "metadata": {},
   "outputs": [],
   "source": [
    "class Conv2D(Node):\n",
    "    def __init__(self, nodes, weights, bias, output_c, input_c, stride=1, padding=False):\n",
    "        self.output_c = output_c\n",
    "        self.input_c = input_c\n",
    "        self.stride = stride\n",
    "        self.padding = padding\n",
    "        self.bias = True if bias else False\n",
    "        Node.__init__(self, [nodes, weights, bias] if bias else [nodes, weights])\n",
    "\n",
    "    def conv_(self, n_c, n_h, n_w, img, filter_, s=1):\n",
    "        k = filter_.shape[2]\n",
    "        res = np.zeros((n_c, n_h, n_w))\n",
    "        for i in range(n_h):\n",
    "            for j in range(n_w):\n",
    "                res[:,i,j] = np.sum(img[:,i*s:i*s+k,j*s:j*s+k]*filter_, axis=(1,2,3))\n",
    "        return res\n",
    "        \n",
    "    def forward(self):\n",
    "        inputs = self.inputs[0].value\n",
    "        weights = self.inputs[1].value\n",
    "        if self.bias:\n",
    "            bias = self.inputs[2].value\n",
    "        ks = weights.shape[2]  # kernel size (w equals to h)\n",
    "\n",
    "        s = self.stride\n",
    "        if self.padding:\n",
    "            inputs = np.pad(inputs, ((0,0),(ks//2, ks//2),(ks//2, ks//2)), 'constant')\n",
    "        assert (inputs.shape[1]-ks)%s == 0\n",
    "        assert (inputs.shape[2]-ks)%s == 0\n",
    "        assert s < ks\n",
    "\n",
    "        n_c = self.output_c\n",
    "        new_h = (inputs.shape[1]-ks)//s+1\n",
    "        new_w = (inputs.shape[2]-ks)//s+1\n",
    "\n",
    "        self.value = self.conv_(n_c, new_h, new_w, inputs, weights, s=s) + (bias if self.bias else 0)\n",
    "    \n",
    "    def backward(self):\n",
    "        # create zero loss for all inputs\n",
    "        self.gradients = {n: np.zeros_like(n.value, dtype=np.float64) for n in self.inputs}\n",
    "        s = self.stride\n",
    "        k = self.inputs[1].value.shape[2]\n",
    "        X = self.inputs[0].value\n",
    "\n",
    "        for n in self.outputs:\n",
    "            # Get the cost w.r.t this node.\n",
    "            grad_cost = n.gradients[self]\n",
    "            \n",
    "            if s > 1:                \n",
    "                tmp = np.insert(grad_cost.reshape(len(grad_cost),-1,1), 1, [[[0]]]*(s-1), axis=2)\n",
    "                tmp = tmp.reshape(len(grad_cost),grad_cost.shape[1], -1)[:,:,:-(s-1)]\n",
    "                tmp = np.insert(tmp, np.repeat(range(1,len(tmp[0])), (s-1)), [0]*tmp.shape[2], axis=1)\n",
    "                inser_grad = np.pad(tmp, ((0,0),(k-1,k-1),(k-1,k-1)), 'constant')\n",
    "            else:\n",
    "                inser_grad = np.pad(grad_cost, ((0,0),(k-1,k-1),(k-1,k-1)), 'constant')\n",
    "            \n",
    "            # kernel: (q,p,h,w), rotate 2 times in h and w dimension\n",
    "            rotated_w = np.rot90(self.inputs[1].value, 2, axes=(2,3))\n",
    "            \n",
    "            # X: (p,h,w)\n",
    "            n_h = self.gradients[self.inputs[0]].shape[1]\n",
    "            n_w = self.gradients[self.inputs[0]].shape[2]\n",
    "            # self.gradients[self.inputs[0]] += self.conv_(n_h, n_w, inser_grad, rotated_w, s=1)\n",
    "            aug1 = np.repeat(inser_grad, rotated_w.shape[1], axis=0)\n",
    "            aug1 = aug1.reshape(len(inser_grad), rotated_w.shape[1], inser_grad.shape[1], inser_grad.shape[2])\n",
    "            aug2 = np.repeat(rotated_w, len(aug1), axis=0)\n",
    "            aug2 = aug2.reshape(len(rotated_w), aug1.shape[0], \n",
    "                                rotated_w.shape[1], rotated_w.shape[2], rotated_w.shape[3])\n",
    "\n",
    "            grad_X = np.zeros_like(X, dtype=np.float64)\n",
    "            shift = k//2 if self.padding else 0\n",
    "            for i in range(n_h):\n",
    "                for j in range(n_w):\n",
    "                    grad_X[:,i,j] = np.sum(aug1[:,:,i+shift:i+shift+k,j+shift:j+shift+k]*aug2, axis=(0,1,3,4))\n",
    "            self.gradients[self.inputs[0]] += grad_X\n",
    "            \n",
    "            # W: (q,p,h,w)\n",
    "            aug1 = np.repeat(inser_grad, X.shape[0], axis=0)\n",
    "            aug1 = aug1.reshape(len(inser_grad), X.shape[0], inser_grad.shape[1], inser_grad.shape[2])\n",
    "            grad_W = np.zeros_like(self.inputs[1].value, dtype=np.float64)\n",
    "            \n",
    "            for i in range(grad_W.shape[2]):\n",
    "                for j in range(grad_W.shape[3]):\n",
    "                    grad_W[:,:,i,j] = np.sum(aug1[:,:,i:i+X.shape[1],j:j+X.shape[2]]*X, axis=(2,3))\n",
    "            self.gradients[self.inputs[1]] += np.rot90(grad_W, 2, axes=(2,3))\n",
    "            \n",
    "            if self.bias:\n",
    "                self.gradients[self.inputs[2]] += np.sum(grad_cost, axis=(1,2), keepdims=True)"
   ]
  },
  {
   "cell_type": "code",
   "execution_count": 5,
   "metadata": {},
   "outputs": [],
   "source": [
    "class AvePooling(Node):\n",
    "    def __init__(self, nodes, k=3):\n",
    "        self.k = k\n",
    "        Node.__init__(self, [nodes])\n",
    "\n",
    "    def conv_(self, n_c, n_h, n_w, img, filter_, s=1):\n",
    "        k = self.k\n",
    "        res = np.zeros((n_c, n_h, n_w))\n",
    "        for i in range(n_h):\n",
    "            for j in range(n_w):\n",
    "                res[:,i,j] = np.sum(img[:,i*s:i*s+k,j*s:j*s+k]*filter_, axis=(1,2))\n",
    "        return res\n",
    "        \n",
    "    def forward(self):\n",
    "        inputs = self.inputs[0].value\n",
    "        k = self.k\n",
    "        \n",
    "        assert inputs.shape[1]%k == 0\n",
    "        assert inputs.shape[2]%k == 0\n",
    "        assert k > 1\n",
    "\n",
    "        filter_ = np.ones((k, k))/(k*k)\n",
    "        new_h = inputs.shape[1]//k\n",
    "        new_w = inputs.shape[2]//k\n",
    "        \n",
    "        self.value = self.conv_(inputs.shape[0], new_h, new_w, inputs, filter_, s=k)\n",
    "    \n",
    "    def backward(self):\n",
    "        # create zero loss for all inputs\n",
    "        self.gradients = {n: np.zeros_like(n.value, dtype=np.float64) for n in self.inputs}\n",
    "        s = k = self.k\n",
    "        X = self.inputs[0].value\n",
    "\n",
    "        for n in self.outputs:\n",
    "            # Get the cost w.r.t this node.\n",
    "            grad_cost = n.gradients[self]\n",
    "\n",
    "            tmp = np.insert(grad_cost.reshape(len(grad_cost),-1,1), 1, [[[0]]]*(s-1), axis=2)\n",
    "            tmp = tmp.reshape(len(grad_cost),grad_cost.shape[1], -1)[:,:,:-(s-1)]\n",
    "            tmp = np.insert(tmp, np.repeat(range(1,len(tmp[0])), (s-1)), [0]*tmp.shape[2], axis=1)\n",
    "            inser_grad = np.pad(tmp, ((0,0),(k-1,k-1),(k-1,k-1)), 'constant')\n",
    "            \n",
    "            w = np.ones((k, k))/(k*k)\n",
    "            \n",
    "            n_h = self.gradients[self.inputs[0]].shape[1]\n",
    "            n_w = self.gradients[self.inputs[0]].shape[2]\n",
    "            self.gradients[self.inputs[0]] += self.conv_(X.shape[0], n_h, n_w, inser_grad, w, s=1)"
   ]
  },
  {
   "cell_type": "code",
   "execution_count": 6,
   "metadata": {},
   "outputs": [],
   "source": [
    "class Flatten(Node):\n",
    "    def __init__(self, nodes):\n",
    "        Node.__init__(self, [nodes])\n",
    "        \n",
    "    def forward(self):\n",
    "        inputs = self.inputs[0].value\n",
    "        self.value = inputs.flatten().reshape(1,-1)\n",
    "    \n",
    "    def backward(self):\n",
    "        # create zero loss for all inputs\n",
    "        self.gradients = {n: np.zeros_like(n.value, dtype=np.float64) for n in self.inputs}\n",
    "        X = self.inputs[0].value\n",
    "\n",
    "        for n in self.outputs:\n",
    "            # Get the cost w.r.t this node.\n",
    "            grad_cost = n.gradients[self]\n",
    "            self.gradients[self.inputs[0]] += grad_cost.reshape(X.shape)"
   ]
  },
  {
   "cell_type": "code",
   "execution_count": 7,
   "metadata": {},
   "outputs": [],
   "source": [
    "W1 = np.random.randn(3, 1, 5, 5)\n",
    "b1 = np.random.randn(3, 1, 1)\n",
    "\n",
    "W2 = np.random.randn(10, 3, 3, 3)\n",
    "b2 = np.random.randn(10, 1, 1)\n",
    "\n",
    "W3 = np.random.randn(250, 100)\n",
    "b3 = np.random.randn(100)\n",
    "\n",
    "W4 = np.random.randn(100, 10)\n",
    "\n",
    "x_node, y_node = Placeholder(), Placeholder()\n",
    "\n",
    "W1_node = Placeholder()\n",
    "b1_node = Placeholder()\n",
    "\n",
    "W2_node = Placeholder()\n",
    "b2_node = Placeholder()\n",
    "\n",
    "W3_node = Placeholder()\n",
    "b3_node = Placeholder()\n",
    "\n",
    "W4_node = Placeholder()\n",
    "\n",
    "conv1 = Conv2D(x_node, W1_node, b1_node, output_c=3, input_c=1, stride=1, padding=False)\n",
    "ave1 = AvePooling(conv1, k=2)\n",
    "conv2 = Conv2D(ave1, W2_node, b2_node, output_c=10, input_c=3, stride=1, padding=False)\n",
    "ave2 = AvePooling(conv2, k=2)\n",
    "flat = Flatten(ave2)\n",
    "l1 = Linear(flat, W3_node, b3_node)\n",
    "tanh1 = Sigmoid(l1)\n",
    "l2 = Linear(tanh1, W4_node, None)\n",
    "tanh2 = Sigmoid(l2)\n",
    "mse = MSE(y_node, tanh2)"
   ]
  },
  {
   "cell_type": "code",
   "execution_count": 8,
   "metadata": {},
   "outputs": [],
   "source": [
    "feed_dict = {\n",
    "    x_node: np.array([img]),\n",
    "    y_node: np.array([0,1,0,0,0,0,0,0,0,0]),\n",
    "\n",
    "    W1_node: W1,\n",
    "    b1_node: b1,\n",
    "\n",
    "    W2_node: W2,\n",
    "    b2_node: b2,\n",
    "    \n",
    "    W3_node: W3,\n",
    "    b3_node: b3,\n",
    "    \n",
    "    W4_node: W4\n",
    "}\n",
    "\n",
    "graph = feed_dict_2_graph(feed_dict)    # network graph\n",
    "sorted_graph = topology(graph)          # sorted graph\n",
    "trainables = [W1_node, b1_node, W2_node, b2_node, W3_node, b3_node, W4_node]"
   ]
  },
  {
   "cell_type": "code",
   "execution_count": 9,
   "metadata": {},
   "outputs": [
    {
     "name": "stdout",
     "output_type": "stream",
     "text": [
      "Epoch: 1, Loss: 0.1000\n",
      "Epoch: 2, Loss: 0.0890\n",
      "Epoch: 3, Loss: 0.0832\n",
      "Epoch: 4, Loss: 0.0781\n",
      "Epoch: 5, Loss: 0.0737\n",
      "Epoch: 6, Loss: 0.0711\n",
      "Epoch: 7, Loss: 0.0682\n",
      "Epoch: 8, Loss: 0.0668\n",
      "Epoch: 9, Loss: 0.0660\n",
      "Epoch: 10, Loss: 0.0655\n",
      "Epoch: 11, Loss: 0.0622\n",
      "Epoch: 12, Loss: 0.0581\n",
      "Epoch: 13, Loss: 0.0596\n",
      "Epoch: 14, Loss: 0.0623\n",
      "Epoch: 15, Loss: 0.0612\n",
      "Epoch: 16, Loss: 0.0640\n",
      "Epoch: 17, Loss: 0.0709\n",
      "Epoch: 18, Loss: 0.0659\n",
      "Epoch: 19, Loss: 0.0616\n",
      "Epoch: 20, Loss: 0.0620\n"
     ]
    }
   ],
   "source": [
    "optimizer = 'Adam'\n",
    "lr=1e-2\n",
    "epochs=20\n",
    "\n",
    "# only used for Adam\n",
    "it = 0\n",
    "\n",
    "for i in range(1, epochs+1):\n",
    "    it += 1\n",
    "    losses = []\n",
    "    for j in range(1000):\n",
    "        # Step 4.1: sample a batch of examples and Reset value\n",
    "        x_node.value = np.array(train.iloc[j]).reshape(1, 28, 28)\n",
    "        y_node.value = np.eye(10)[train_label[j]].reshape(1,-1)\n",
    "\n",
    "        # Step 4.2: forward\n",
    "        for n in sorted_graph:\n",
    "            n.forward()\n",
    "\n",
    "        # Step 4.3: backward\n",
    "        for n in sorted_graph[::-1]:\n",
    "            n.backward()\n",
    "\n",
    "        # Step 4.4: optimization\n",
    "        for t in trainables:\n",
    "            t.optimize(optimizer=optimizer, lr=lr, it=it)\n",
    "\n",
    "        # Step 5: update current loss\n",
    "        loss = sorted_graph[-1].value\n",
    "        \n",
    "        losses.append(loss)\n",
    "\n",
    "    if i % 1 == 0:\n",
    "        print(\"Epoch: {}, Loss: {:.4f}\".format(i, np.mean(losses)))"
   ]
  },
  {
   "cell_type": "code",
   "execution_count": 10,
   "metadata": {},
   "outputs": [
    {
     "name": "stdout",
     "output_type": "stream",
     "text": [
      "0.577\n"
     ]
    }
   ],
   "source": [
    "preds = []\n",
    "reals = []\n",
    "for i in range(1000):\n",
    "    x_node.value = np.array(train.iloc[i]).reshape(1, 28, 28)\n",
    "    for n in sorted_graph[:-1]:\n",
    "        n.forward()\n",
    "    preds.append(np.argmax(sorted_graph[-2].value))\n",
    "    reals.append(train_label[i])\n",
    "print(np.sum(np.array(preds)==np.array(reals))/1000)"
   ]
  },
  {
   "cell_type": "code",
   "execution_count": 11,
   "metadata": {},
   "outputs": [
    {
     "name": "stdout",
     "output_type": "stream",
     "text": [
      "pred: 8, real: 1\n",
      "pred: 0, real: 0\n",
      "pred: 1, real: 1\n",
      "pred: 6, real: 4\n",
      "pred: 0, real: 0\n",
      "pred: 0, real: 0\n",
      "pred: 7, real: 7\n",
      "pred: 3, real: 3\n",
      "pred: 5, real: 5\n",
      "pred: 3, real: 3\n"
     ]
    }
   ],
   "source": [
    "for i in range(10):\n",
    "    x_node.value = np.array(train.iloc[i]).reshape(1, 28, 28)\n",
    "    for n in sorted_graph[:-1]:\n",
    "        n.forward()\n",
    "    print(f\"pred: {np.argmax(sorted_graph[-2].value)}, real: {train_label[i]}\")"
   ]
  },
  {
   "cell_type": "code",
   "execution_count": 12,
   "metadata": {},
   "outputs": [
    {
     "data": {
      "text/plain": [
       "<matplotlib.image.AxesImage at 0x1fcc6d8f488>"
      ]
     },
     "execution_count": 12,
     "metadata": {},
     "output_type": "execute_result"
    },
    {
     "data": {
      "image/png": "[encoded data removed]",
      "text/plain": [
       "<Figure size 432x288 with 1 Axes>"
      ]
     },
     "metadata": {
      "needs_background": "light"
     },
     "output_type": "display_data"
    }
   ],
   "source": [
    "plt.imshow(x_node.value[0])"
   ]
  },
  {
   "cell_type": "code",
   "execution_count": 13,
   "metadata": {},
   "outputs": [
    {
     "data": {
      "image/png": "[encoded data removed]",
      "text/plain": [
       "<Figure size 432x288 with 2 Axes>"
      ]
     },
     "metadata": {
      "needs_background": "light"
     },
     "output_type": "display_data"
    }
   ],
   "source": [
    "plt.subplot(121)\n",
    "plt.imshow(conv1.value[0])\n",
    "plt.subplot(122)\n",
    "plt.imshow(conv1.value[1])\n",
    "plt.show()"
   ]
  },
  {
   "cell_type": "code",
   "execution_count": 14,
   "metadata": {},
   "outputs": [
    {
     "data": {
      "image/png": "[encoded data removed]",
      "text/plain": [
       "<Figure size 432x288 with 4 Axes>"
      ]
     },
     "metadata": {
      "needs_background": "light"
     },
     "output_type": "display_data"
    }
   ],
   "source": [
    "plt.subplot(141)\n",
    "plt.imshow(conv2.value[0])\n",
    "plt.subplot(142)\n",
    "plt.imshow(conv2.value[1])\n",
    "plt.subplot(143)\n",
    "plt.imshow(conv2.value[2])\n",
    "plt.subplot(144)\n",
    "plt.imshow(conv2.value[3])\n",
    "plt.show()"
   ]
  }
 ],
 "metadata": {
  "kernelspec": {
   "display_name": "Python 3",
   "language": "python",
   "name": "python3"
  },
  "language_info": {
   "codemirror_mode": {
    "name": "ipython",
    "version": 3
   },
   "file_extension": ".py",
   "mimetype": "text/x-python",
   "name": "python",
   "nbconvert_exporter": "python",
   "pygments_lexer": "ipython3",
   "version": "3.7.10"
  }
 },
 "nbformat": 4,
 "nbformat_minor": 4
}
