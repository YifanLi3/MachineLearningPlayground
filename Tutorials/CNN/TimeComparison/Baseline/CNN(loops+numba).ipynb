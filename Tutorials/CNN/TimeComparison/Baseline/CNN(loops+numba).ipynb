{
 "cells": [
  {
   "cell_type": "markdown",
   "metadata": {},
   "source": [
    "# Includes Channel and Batch\n",
    "\n",
    "Coded by Lujia Zhong @lujiazho<br>\n",
    "Reference: https://microsoft.github.io/ai-edu/"
   ]
  },
  {
   "cell_type": "code",
   "execution_count": 1,
   "metadata": {
    "colab": {
     "base_uri": "https://localhost:8080/"
    },
    "executionInfo": {
     "elapsed": 6596,
     "status": "ok",
     "timestamp": 1654400267182,
     "user": {
      "displayName": "Lujia Zho",
      "userId": "05264397210022324545"
     },
     "user_tz": 420
    },
    "id": "OOSgv1f78C9y",
    "outputId": "9d57d982-57f0-40b0-d6c7-65e986d7a1ab"
   },
   "outputs": [
    {
     "name": "stdout",
     "output_type": "stream",
     "text": [
      "Looking in indexes: https://pypi.org/simple, https://us-python.pkg.dev/colab-wheels/public/simple/\n",
      "Requirement already satisfied: numba in /usr/local/lib/python3.7/dist-packages (0.51.2)\n",
      "Requirement already satisfied: numpy>=1.15 in /usr/local/lib/python3.7/dist-packages (from numba) (1.21.6)\n",
      "Requirement already satisfied: setuptools in /usr/local/lib/python3.7/dist-packages (from numba) (57.4.0)\n",
      "Requirement already satisfied: llvmlite<0.35,>=0.34.0.dev0 in /usr/local/lib/python3.7/dist-packages (from numba) (0.34.0)\n"
     ]
    }
   ],
   "source": [
    "!pip install numba"
   ]
  },
  {
   "cell_type": "code",
   "execution_count": 2,
   "metadata": {
    "colab": {
     "base_uri": "https://localhost:8080/"
    },
    "executionInfo": {
     "elapsed": 2559,
     "status": "ok",
     "timestamp": 1654400274046,
     "user": {
      "displayName": "Lujia Zho",
      "userId": "05264397210022324545"
     },
     "user_tz": 420
    },
    "id": "hMRYU9k18IkI",
    "outputId": "065b2b33-2128-4bda-93a3-61990d77e661"
   },
   "outputs": [
    {
     "name": "stdout",
     "output_type": "stream",
     "text": [
      "Cloning into 'MachineLearningPlayground'...\n",
      "remote: Enumerating objects: 204, done.\u001b[K\n",
      "remote: Counting objects: 100% (139/139), done.\u001b[K\n",
      "remote: Compressing objects: 100% (98/98), done.\u001b[K\n",
      "remote: Total 204 (delta 51), reused 117 (delta 38), pack-reused 65\u001b[K\n",
      "Receiving objects: 100% (204/204), 25.35 MiB | 21.09 MiB/s, done.\n",
      "Resolving deltas: 100% (59/59), done.\n"
     ]
    }
   ],
   "source": [
    "!git clone https://github.com/lujiazho/MachineLearningPlayground.git"
   ]
  },
  {
   "cell_type": "code",
   "execution_count": 3,
   "metadata": {
    "colab": {
     "base_uri": "https://localhost:8080/"
    },
    "executionInfo": {
     "elapsed": 209,
     "status": "ok",
     "timestamp": 1654400282858,
     "user": {
      "displayName": "Lujia Zho",
      "userId": "05264397210022324545"
     },
     "user_tz": 420
    },
    "id": "brF4aqkP8NGN",
    "outputId": "24faae94-a08e-4d64-d2a7-7bd04e06e7e2"
   },
   "outputs": [
    {
     "name": "stdout",
     "output_type": "stream",
     "text": [
      "/content/MachineLearningPlayground\n"
     ]
    }
   ],
   "source": [
    "%cd MachineLearningPlayground/"
   ]
  },
  {
   "cell_type": "code",
   "execution_count": 4,
   "metadata": {
    "executionInfo": {
     "elapsed": 1132,
     "status": "ok",
     "timestamp": 1654400365239,
     "user": {
      "displayName": "Lujia Zho",
      "userId": "05264397210022324545"
     },
     "user_tz": 420
    },
    "id": "bV1je14s7x7o"
   },
   "outputs": [],
   "source": [
    "import time\n",
    "import numba as nb\n",
    "import numpy as np\n",
    "import pandas as pd\n",
    "import matplotlib.pyplot as plt\n",
    "\n",
    "from miniml.ann import *\n",
    "from miniml.ann.common import *\n",
    "from miniml.ann.utils import *"
   ]
  },
  {
   "cell_type": "code",
   "execution_count": 5,
   "metadata": {
    "executionInfo": {
     "elapsed": 3005,
     "status": "ok",
     "timestamp": 1654400457578,
     "user": {
      "displayName": "Lujia Zho",
      "userId": "05264397210022324545"
     },
     "user_tz": 420
    },
    "id": "Wdg2U3At7x7r"
   },
   "outputs": [],
   "source": [
    "train = pd.read_csv('../train.csv')\n",
    "\n",
    "train_label = train['label']\n",
    "train = train.drop(['label'], axis=1)"
   ]
  },
  {
   "cell_type": "code",
   "execution_count": 6,
   "metadata": {
    "colab": {
     "base_uri": "https://localhost:8080/",
     "height": 265
    },
    "executionInfo": {
     "elapsed": 36,
     "status": "ok",
     "timestamp": 1654400457579,
     "user": {
      "displayName": "Lujia Zho",
      "userId": "05264397210022324545"
     },
     "user_tz": 420
    },
    "id": "9unwQHLJ7x7s",
    "outputId": "0cf110b3-fd0b-4d34-9fdb-7dbcd96e9d50"
   },
   "outputs": [
    {
     "data": {
      "image/png": "[encoded data removed]",
      "text/plain": [
       "<Figure size 432x288 with 1 Axes>"
      ]
     },
     "metadata": {
      "needs_background": "light"
     },
     "output_type": "display_data"
    }
   ],
   "source": [
    "img = np.array(train.iloc[0]).reshape(28, 28)\n",
    "_ = plt.imshow(img)"
   ]
  },
  {
   "cell_type": "code",
   "execution_count": 7,
   "metadata": {
    "executionInfo": {
     "elapsed": 213,
     "status": "ok",
     "timestamp": 1654400460314,
     "user": {
      "displayName": "Lujia Zho",
      "userId": "05264397210022324545"
     },
     "user_tz": 420
    },
    "id": "0PHtwE1y7x7u"
   },
   "outputs": [],
   "source": [
    "@nb.jit(nopython=True)\n",
    "def Conv_conv_(n_bt, n_ci, n_co, n_h, n_w, img, filter_, bias, s):\n",
    "    k1, k2 = filter_.shape[2], filter_.shape[3]\n",
    "    res = np.zeros((n_bt, n_co, n_h, n_w))\n",
    "\n",
    "    for bt in range(n_bt):\n",
    "        for c_o in range(n_co):\n",
    "            res[bt,c_o] += bias[c_o]\n",
    "            for c_i in range(n_ci):\n",
    "                for i in range(n_h):\n",
    "                    for j in range(n_w):\n",
    "                        for m in range(k1):\n",
    "                            for n in range(k2):\n",
    "                                res[bt,c_o,i,j] += img[bt,c_i,s*i+m,s*j+n]*filter_[c_o,c_i,m,n]\n",
    "    return res\n",
    "\n",
    "@nb.jit(nopython=True)\n",
    "def comput_hw_dim(o_1, o_2, i_1, i_2, ker_1, ker_2, n_h, n_w, inputs, kernel, outputs, shift):\n",
    "    k1, k2 = kernel.shape[2], kernel.shape[3]\n",
    "    for i in range(n_h):\n",
    "        for j in range(n_w):\n",
    "            for m in range(k1):\n",
    "                for n in range(k2):\n",
    "                    outputs[o_1,o_2,i,j] += inputs[i_1,i_2,i+shift+m,j+shift+n]*kernel[ker_1,ker_2,m,n]\n",
    "\n",
    "@nb.jit(nopython=True)\n",
    "def comput_weights_bias_grad(n_bt, n_c_o, n_c_i, n_h, n_w, inser_grad, X, grad_W, bias, grad_b, grad_y):\n",
    "    for bt in range(n_bt):\n",
    "        for c_o in range(n_c_o):\n",
    "            for c_i in range(n_c_i):\n",
    "                comput_hw_dim(c_o, c_i, bt, c_o, bt, c_i, n_h, n_w, inser_grad, X, grad_W, 0)\n",
    "            if bias:\n",
    "                grad_b[c_o] += np.sum(grad_y[bt,c_o])\n",
    "\n",
    "@nb.jit(nopython=True)\n",
    "def comput_X_grad(n_bt, n_c_o, n_c_i, n_h, n_w, inser_grad, rotated_w, grad_X, shift):\n",
    "    for bt in range(n_bt):\n",
    "        for c_o in range(n_c_o):\n",
    "            for c_i in range(n_c_i):\n",
    "                comput_hw_dim(bt, c_i, bt, c_o, c_o, c_i, n_h, n_w, inser_grad, rotated_w, grad_X, shift)\n",
    "                \n",
    "@nb.jit(nopython=True)\n",
    "def comput_inserted_grad_y(n_bt, n_c_o, n_h, n_w, inser_grad, grad_y, s):\n",
    "    for bt in range(n_bt):\n",
    "        for c_o in range(n_c_o):\n",
    "            for i in range(n_h):\n",
    "                for j in range(n_w):\n",
    "                    inser_grad[bt, c_o, i*s, j*s] = grad_y[bt, c_o, i, j]\n",
    "\n",
    "@nb.jit(nopython=True)\n",
    "def Pooling_conv_(n_bt, n_c, n_h, n_w, img, filter_, s):\n",
    "    k = s\n",
    "    res = np.zeros((n_bt, n_c, n_h, n_w))\n",
    "    for bt in range(n_bt):\n",
    "        for c_i in range(n_c):\n",
    "            for i in range(n_h):\n",
    "                for j in range(n_w):\n",
    "                    for m in range(k):\n",
    "                        for n in range(k):\n",
    "                            res[bt,c_i,i,j] += img[bt,c_i,i*s+m,j*s+n]*filter_[m,n]\n",
    "    return res"
   ]
  },
  {
   "cell_type": "code",
   "execution_count": 8,
   "metadata": {
    "executionInfo": {
     "elapsed": 3,
     "status": "ok",
     "timestamp": 1654400460952,
     "user": {
      "displayName": "Lujia Zho",
      "userId": "05264397210022324545"
     },
     "user_tz": 420
    },
    "id": "b_WAB3R27x7w"
   },
   "outputs": [],
   "source": [
    "class Conv2D(Node):\n",
    "    def __init__(self, nodes, weights, bias, output_c, input_c, stride=1, padding=False):\n",
    "        self.output_c = output_c\n",
    "        self.input_c = input_c\n",
    "        self.stride = stride\n",
    "        self.padding = padding\n",
    "        self.bias = True if bias else False\n",
    "        Node.__init__(self, [nodes, weights, bias] if bias else [nodes, weights])\n",
    "\n",
    "    def conv_(self, n_c, n_h, n_w, img, filter_, s=1):\n",
    "        k1, k2 = filter_.shape[2], filter_.shape[3]\n",
    "        res = np.zeros((self.inputs[0].value.shape[0], n_c, n_h, n_w))\n",
    "        \n",
    "        for bt in range(self.inputs[0].value.shape[0]):\n",
    "            for c_o in range(n_c):\n",
    "                res[bt,c_o] += self.inputs[2].value[c_o]\n",
    "                for c_i in range(self.inputs[0].value.shape[1]):\n",
    "                    for i in range(n_h):\n",
    "                        for j in range(n_w):\n",
    "                            for m in range(k1):\n",
    "                                for n in range(k2):\n",
    "                                    res[bt,c_o,i,j] += img[bt,c_i,s*i+m,s*j+n]*filter_[c_o,c_i,m,n]\n",
    "        return res\n",
    "        \n",
    "    def forward(self):\n",
    "        # inputs: [batch, channel_in, hight_in, width_in]\n",
    "        inputs = self.inputs[0].value\n",
    "        # weights: [channel_out, channel_in, kernel_size, kernel_size]\n",
    "        weights = self.inputs[1].value\n",
    "        # bias: [channel_out, 1, 1] or [1, channel_out, 1, 1] is the same\n",
    "        if self.bias:\n",
    "            bias = self.inputs[2].value\n",
    "        k = weights.shape[2]  # kernel size (w equals to h)\n",
    "\n",
    "        s = self.stride\n",
    "        if self.padding:\n",
    "            inputs = np.pad(inputs, ((0,0),(0,0),(k//2,k//2),(k//2,k//2)), 'constant')\n",
    "        assert (inputs.shape[2]-k)%s == 0\n",
    "        assert (inputs.shape[3]-k)%s == 0\n",
    "        assert s < k\n",
    "\n",
    "        n_c = self.output_c\n",
    "        new_h = (inputs.shape[2]-k)//s+1\n",
    "        new_w = (inputs.shape[3]-k)//s+1\n",
    "\n",
    "        # value: [batch, channel_out, hight_out, width_out]\n",
    "#         self.value = self.conv_(n_c, new_h, new_w, inputs, weights, s=s) + (bias if self.bias else 0)\n",
    "        self.value = Conv_conv_(inputs.shape[0], inputs.shape[1], n_c, \n",
    "                                new_h, new_w, inputs, weights, bias if self.bias else [0]*n_c, s=s)\n",
    "    \n",
    "    def backward(self):\n",
    "        # create zero loss for all inputs\n",
    "        self.gradients = {n: np.zeros_like(n.value, dtype=np.float64) for n in self.inputs}\n",
    "        s = self.stride\n",
    "        k = self.inputs[1].value.shape[2]\n",
    "        X = self.inputs[0].value\n",
    "\n",
    "        for n in self.outputs:\n",
    "            # Get the cost w.r.t this node.\n",
    "            grad_y = n.gradients[self]\n",
    "            \n",
    "            # calculate inserted gradient_y\n",
    "            if s > 1:\n",
    "                inser_grad = np.zeros((X.shape[0], self.inputs[1].value.shape[0],\n",
    "                                       s*(grad_y.shape[2]-1)+1, s*(grad_y.shape[3]-1)+1), dtype=np.float64)\n",
    "                comput_inserted_grad_y(X.shape[0], self.inputs[1].value.shape[0], \n",
    "                                       grad_y.shape[2], grad_y.shape[3], inser_grad, grad_y, s=s)\n",
    "                inser_grad = np.pad(inser_grad, ((0,0),(0,0),(k-1,k-1),(k-1,k-1)), 'constant')\n",
    "            else:\n",
    "                inser_grad = np.pad(grad_y, ((0,0),(0,0),(k-1,k-1),(k-1,k-1)), 'constant')\n",
    "            \n",
    "            # W: [ch_out, ch_in, kernel_size, kernel_size], rotate 2 times in h and w dimension\n",
    "            rotated_w = np.rot90(self.inputs[1].value, 2, axes=(2,3))\n",
    "            \n",
    "            # X: [batch, ch_in, height_in, width_in]\n",
    "            \n",
    "#             # original loops\n",
    "#             for bt in range(X.shape[0]):\n",
    "#                 for c_o in range(self.inputs[1].value.shape[0]):\n",
    "#                     for c_i in range(X.shape[1]):\n",
    "#                         for i in range(n_h):\n",
    "#                             for j in range(n_w):\n",
    "#                                 grad_X[bt,c_i,i,j] += np.sum(inser_grad[bt,c_o,i:i+k1,j:j+k2]*rotated_w[c_o,c_i])\n",
    "            grad_X = np.zeros_like(X, dtype=np.float64)\n",
    "            n_h = grad_X.shape[2]\n",
    "            n_w = grad_X.shape[3]\n",
    "            shift = k//2 if self.padding else 0\n",
    "            comput_X_grad(X.shape[0], self.inputs[1].value.shape[0], X.shape[1], \n",
    "                          n_h, n_w, inser_grad, rotated_w, grad_X, shift)\n",
    "            \n",
    "            self.gradients[self.inputs[0]] += grad_X\n",
    "            \n",
    "            # W: [ch_out, ch_in, kernel_size, kernel_size]\n",
    "            \n",
    "#             # original loops\n",
    "#             for bt in range(X.shape[0]):\n",
    "#                 for c_o in range(self.inputs[1].value.shape[0]):\n",
    "#                     for c_i in range(X.shape[1]):\n",
    "#                         for i in range(grad_W.shape[2]):\n",
    "#                             for j in range(grad_W.shape[3]):\n",
    "#                                 grad_W[c_o,c_i,i,j] += np.sum(inser_grad[bt,c_o,i:i+k1,j:j+k2]*X[bt,c_i])\n",
    "#                     if self.bias:\n",
    "#                         self.gradients[self.inputs[2]][c_o] += np.sum(grad_y[bt,c_o])\n",
    "            grad_W = np.zeros_like(self.inputs[1].value, dtype=np.float64)\n",
    "            n_h = grad_W.shape[2]\n",
    "            n_w = grad_W.shape[3]\n",
    "            comput_weights_bias_grad(X.shape[0], self.inputs[1].value.shape[0], X.shape[1], n_h, n_w, \n",
    "                                     inser_grad, X, grad_W, self.bias, self.gradients[self.inputs[2]], grad_y)\n",
    "            \n",
    "            self.gradients[self.inputs[1]] += np.rot90(grad_W, 2, axes=(2,3))"
   ]
  },
  {
   "cell_type": "code",
   "execution_count": 9,
   "metadata": {
    "executionInfo": {
     "elapsed": 213,
     "status": "ok",
     "timestamp": 1654400461442,
     "user": {
      "displayName": "Lujia Zho",
      "userId": "05264397210022324545"
     },
     "user_tz": 420
    },
    "id": "Z-qtepZE7x7z"
   },
   "outputs": [],
   "source": [
    "class AvePooling(Node):\n",
    "    def __init__(self, nodes, k=3):\n",
    "        self.k = k\n",
    "        Node.__init__(self, [nodes])\n",
    "\n",
    "    def conv_(self, n_c, n_h, n_w, img, filter_, s=1):\n",
    "        k = self.k\n",
    "        res = np.zeros((self.inputs[0].value.shape[0], n_c, n_h, n_w))\n",
    "        for bt in range(res.shape[0]):\n",
    "            for c_i in range(n_c):\n",
    "                for i in range(n_h):\n",
    "                    for j in range(n_w):\n",
    "                        res[bt,c_i,i,j] = np.sum(img[bt,c_i,i*s:i*s+k,j*s:j*s+k]*filter_)\n",
    "        return res\n",
    "        \n",
    "    def forward(self):\n",
    "        inputs = self.inputs[0].value\n",
    "        k = self.k\n",
    "        \n",
    "        assert inputs.shape[2]%k == 0\n",
    "        assert inputs.shape[3]%k == 0\n",
    "        assert k > 1\n",
    "\n",
    "        filter_ = np.ones((k, k))/(k*k)\n",
    "        new_h = inputs.shape[2]//k\n",
    "        new_w = inputs.shape[3]//k\n",
    "        \n",
    "#         self.value = self.conv_(inputs.shape[1], new_h, new_w, inputs, filter_, s=k)\n",
    "        self.value = Pooling_conv_(inputs.shape[0], inputs.shape[1], new_h, new_w, inputs, filter_, s=k)\n",
    "    \n",
    "    def backward(self):\n",
    "        # create zero loss for all inputs\n",
    "        self.gradients = {n: np.zeros_like(n.value, dtype=np.float64) for n in self.inputs}\n",
    "        s = k = self.k\n",
    "        X = self.inputs[0].value\n",
    "\n",
    "        for n in self.outputs:\n",
    "            # Get the cost w.r.t this node.\n",
    "            grad_y = n.gradients[self]\n",
    "\n",
    "            inser_grad = np.zeros((X.shape[0], self.inputs[0].value.shape[1],\n",
    "                                       s*(grad_y.shape[2]-1)+1, s*(grad_y.shape[3]-1)+1), dtype=np.float64)\n",
    "            comput_inserted_grad_y(X.shape[0], self.inputs[0].value.shape[1], \n",
    "                                       grad_y.shape[2], grad_y.shape[3], inser_grad, grad_y, s=s)\n",
    "            inser_grad = np.pad(inser_grad, ((0,0),(0,0),(k-1,k-1),(k-1,k-1)), 'constant')\n",
    "            \n",
    "            w = np.ones((k, k))/(k*k)\n",
    "            \n",
    "            n_h = self.gradients[self.inputs[0]].shape[2]\n",
    "            n_w = self.gradients[self.inputs[0]].shape[3]\n",
    "#             self.gradients[self.inputs[0]] += self.conv_(X.shape[1], n_h, n_w, inser_grad, w, s=1)\n",
    "            self.gradients[self.inputs[0]] += Pooling_conv_(X.shape[0], X.shape[1], n_h, n_w, \n",
    "                                                            inser_grad, w, s=1)"
   ]
  },
  {
   "cell_type": "code",
   "execution_count": 10,
   "metadata": {
    "executionInfo": {
     "elapsed": 8,
     "status": "ok",
     "timestamp": 1654400462261,
     "user": {
      "displayName": "Lujia Zho",
      "userId": "05264397210022324545"
     },
     "user_tz": 420
    },
    "id": "jANByUEL7x71"
   },
   "outputs": [],
   "source": [
    "class Flatten(Node):\n",
    "    def __init__(self, nodes):\n",
    "        Node.__init__(self, [nodes])\n",
    "        \n",
    "    def forward(self):\n",
    "        inputs = self.inputs[0].value\n",
    "        self.value = inputs.flatten().reshape(inputs.shape[0],-1)\n",
    "    \n",
    "    def backward(self):\n",
    "        # create zero loss for all inputs\n",
    "        self.gradients = {n: np.zeros_like(n.value, dtype=np.float64) for n in self.inputs}\n",
    "        X = self.inputs[0].value\n",
    "\n",
    "        for n in self.outputs:\n",
    "            # Get the cost w.r.t this node.\n",
    "            grad_cost = n.gradients[self]\n",
    "            self.gradients[self.inputs[0]] += grad_cost.reshape(X.shape)"
   ]
  },
  {
   "cell_type": "code",
   "execution_count": 11,
   "metadata": {
    "executionInfo": {
     "elapsed": 7,
     "status": "ok",
     "timestamp": 1654400462880,
     "user": {
      "displayName": "Lujia Zho",
      "userId": "05264397210022324545"
     },
     "user_tz": 420
    },
    "id": "VuRxuF3H7x72"
   },
   "outputs": [],
   "source": [
    "W1 = np.random.randn(3, 1, 5, 5)\n",
    "b1 = np.random.randn(3, 1, 1)\n",
    "\n",
    "W2 = np.random.randn(10, 3, 3, 3)\n",
    "b2 = np.random.randn(10, 1, 1)\n",
    "\n",
    "W3 = np.random.randn(250, 100)\n",
    "b3 = np.random.randn(100)\n",
    "\n",
    "W4 = np.random.randn(100, 10)\n",
    "\n",
    "x_node, y_node = Placeholder(), Placeholder()\n",
    "\n",
    "W1_node = Placeholder()\n",
    "b1_node = Placeholder()\n",
    "\n",
    "W2_node = Placeholder()\n",
    "b2_node = Placeholder()\n",
    "\n",
    "W3_node = Placeholder()\n",
    "b3_node = Placeholder()\n",
    "\n",
    "W4_node = Placeholder()\n",
    "\n",
    "conv1 = Conv2D(x_node, W1_node, b1_node, output_c=3, input_c=1, stride=1, padding=False)\n",
    "ave1 = AvePooling(conv1, k=2)\n",
    "conv2 = Conv2D(ave1, W2_node, b2_node, output_c=10, input_c=3, stride=1, padding=False)\n",
    "ave2 = AvePooling(conv2, k=2)\n",
    "flat = Flatten(ave2)\n",
    "l1 = Linear(flat, W3_node, b3_node)\n",
    "tanh1 = Sigmoid(l1)\n",
    "l2 = Linear(tanh1, W4_node, None)\n",
    "tanh2 = Sigmoid(l2)\n",
    "mse = MSE(y_node, tanh2)"
   ]
  },
  {
   "cell_type": "code",
   "execution_count": 12,
   "metadata": {
    "executionInfo": {
     "elapsed": 5,
     "status": "ok",
     "timestamp": 1654400464410,
     "user": {
      "displayName": "Lujia Zho",
      "userId": "05264397210022324545"
     },
     "user_tz": 420
    },
    "id": "osp_m59A7x75"
   },
   "outputs": [],
   "source": [
    "feed_dict = {\n",
    "    x_node: np.array([img]),\n",
    "    y_node: np.array([0,1,0,0,0,0,0,0,0,0]),\n",
    "\n",
    "    W1_node: W1,\n",
    "    b1_node: b1,\n",
    "\n",
    "    W2_node: W2,\n",
    "    b2_node: b2,\n",
    "    \n",
    "    W3_node: W3,\n",
    "    b3_node: b3,\n",
    "    \n",
    "    W4_node: W4\n",
    "}\n",
    "\n",
    "graph = feed_dict_2_graph(feed_dict)    # network graph\n",
    "sorted_graph = topology(graph)          # sorted graph\n",
    "trainables = [W1_node, b1_node, W2_node, b2_node, W3_node, b3_node, W4_node]"
   ]
  },
  {
   "cell_type": "code",
   "execution_count": 13,
   "metadata": {
    "colab": {
     "base_uri": "https://localhost:8080/"
    },
    "executionInfo": {
     "elapsed": 40723,
     "status": "ok",
     "timestamp": 1654400508608,
     "user": {
      "displayName": "Lujia Zho",
      "userId": "05264397210022324545"
     },
     "user_tz": 420
    },
    "id": "zjN1cbTc7x76",
    "outputId": "5bc0e2de-ca18-4ace-e9c0-963412dcd358"
   },
   "outputs": [
    {
     "name": "stdout",
     "output_type": "stream",
     "text": [
      "Epoch: 1, Loss: 0.1041\n",
      "Epoch: 2, Loss: 0.0876\n",
      "Epoch: 3, Loss: 0.0839\n",
      "Epoch: 4, Loss: 0.0804\n",
      "Epoch: 5, Loss: 0.0801\n",
      "Epoch: 6, Loss: 0.0776\n",
      "Epoch: 7, Loss: 0.0765\n",
      "Epoch: 8, Loss: 0.0747\n",
      "Epoch: 9, Loss: 0.0725\n",
      "Epoch: 10, Loss: 0.0722\n",
      "Epoch: 11, Loss: 0.0714\n",
      "Epoch: 12, Loss: 0.0715\n",
      "Epoch: 13, Loss: 0.0696\n",
      "Epoch: 14, Loss: 0.0686\n",
      "Epoch: 15, Loss: 0.0707\n",
      "Epoch: 16, Loss: 0.0692\n",
      "Epoch: 17, Loss: 0.0679\n",
      "Epoch: 18, Loss: 0.0662\n",
      "Epoch: 19, Loss: 0.0640\n",
      "Epoch: 20, Loss: 0.0616\n",
      "2.0207 sec/epoch\n"
     ]
    }
   ],
   "source": [
    "start_time = time.time()\n",
    "optimizer = 'Adam'\n",
    "lr = 1e-2\n",
    "epochs = 20\n",
    "batch = 2\n",
    "\n",
    "# only used for Adam\n",
    "it = 0\n",
    "\n",
    "for i in range(1, epochs+1):\n",
    "    it += 1\n",
    "    losses = []\n",
    "    for j in range(1, 1000, batch):\n",
    "        # Step 4.1: sample a batch of examples and Reset value\n",
    "        x_node.value = np.array(train.iloc[j:j+batch]).reshape(batch, 1, 28, 28)\n",
    "        y_node.value = np.eye(10)[train_label[j:j+batch]].reshape(batch,-1)\n",
    "\n",
    "        # Step 4.2: forward\n",
    "        for n in sorted_graph:\n",
    "            n.forward()\n",
    "\n",
    "        # Step 4.3: backward\n",
    "        for n in sorted_graph[::-1]:\n",
    "            n.backward()\n",
    "\n",
    "        # Step 4.4: optimization\n",
    "        for t in trainables:\n",
    "            t.optimize(optimizer=optimizer, lr=lr, it=it)\n",
    "\n",
    "        # Step 5: update current loss\n",
    "        loss = sorted_graph[-1].value\n",
    "        \n",
    "        losses.append(loss)\n",
    "\n",
    "    if (i+1) % 1 == 0:\n",
    "        print(\"Epoch: {}, Loss: {:.4f}\".format(i, np.mean(losses)))\n",
    "print(f\"{((time.time() - start_time)/epochs):.4f} sec/epoch\")"
   ]
  },
  {
   "cell_type": "code",
   "execution_count": 14,
   "metadata": {
    "colab": {
     "base_uri": "https://localhost:8080/"
    },
    "executionInfo": {
     "elapsed": 205,
     "status": "ok",
     "timestamp": 1654400508803,
     "user": {
      "displayName": "Lujia Zho",
      "userId": "05264397210022324545"
     },
     "user_tz": 420
    },
    "id": "GkAgDFhk7x77",
    "outputId": "d465c7b2-1373-4961-cd1e-2fcbede78afb"
   },
   "outputs": [
    {
     "name": "stdout",
     "output_type": "stream",
     "text": [
      "0.543\n"
     ]
    }
   ],
   "source": [
    "preds = []\n",
    "reals = []\n",
    "for i in range(1):\n",
    "    x_node.value = np.array(train.iloc[i:i+1000]).reshape(1000, 1, 28, 28)\n",
    "    for n in sorted_graph[:-1]:\n",
    "        n.forward()\n",
    "    preds.append(np.argmax(sorted_graph[-2].value, axis=1))\n",
    "    reals.append(train_label[i:i+1000])\n",
    "print(np.sum(np.array(preds)==np.array(reals))/1000)"
   ]
  },
  {
   "cell_type": "code",
   "execution_count": 15,
   "metadata": {
    "colab": {
     "base_uri": "https://localhost:8080/",
     "height": 201
    },
    "executionInfo": {
     "elapsed": 170,
     "status": "ok",
     "timestamp": 1654400508968,
     "user": {
      "displayName": "Lujia Zho",
      "userId": "05264397210022324545"
     },
     "user_tz": 420
    },
    "id": "R-CXK2Qd7x78",
    "outputId": "d9276ca2-1acd-4f7c-f187-4b2dc666ea33"
   },
   "outputs": [
    {
     "data": {
      "image/png": "[encoded data removed]",
      "text/plain": [
       "<Figure size 432x288 with 2 Axes>"
      ]
     },
     "metadata": {
      "needs_background": "light"
     },
     "output_type": "display_data"
    }
   ],
   "source": [
    "plt.subplot(121)\n",
    "plt.imshow(conv1.value[1][0])\n",
    "plt.subplot(122)\n",
    "plt.imshow(conv1.value[1][1])\n",
    "plt.show()"
   ]
  },
  {
   "cell_type": "code",
   "execution_count": 16,
   "metadata": {
    "colab": {
     "base_uri": "https://localhost:8080/",
     "height": 121
    },
    "executionInfo": {
     "elapsed": 832,
     "status": "ok",
     "timestamp": 1654400509794,
     "user": {
      "displayName": "Lujia Zho",
      "userId": "05264397210022324545"
     },
     "user_tz": 420
    },
    "id": "qVIJBP_r7x79",
    "outputId": "f6f63679-4611-46b2-903b-64f721df0f0a"
   },
   "outputs": [
    {
     "data": {
      "image/png": "[encoded data removed]",
      "text/plain": [
       "<Figure size 432x288 with 4 Axes>"
      ]
     },
     "metadata": {
      "needs_background": "light"
     },
     "output_type": "display_data"
    }
   ],
   "source": [
    "plt.subplot(141)\n",
    "plt.imshow(conv2.value[1][0])\n",
    "plt.subplot(142)\n",
    "plt.imshow(conv2.value[1][1])\n",
    "plt.subplot(143)\n",
    "plt.imshow(conv2.value[1][2])\n",
    "plt.subplot(144)\n",
    "plt.imshow(conv2.value[1][3])\n",
    "plt.show()"
   ]
  }
 ],
 "metadata": {
  "colab": {
   "name": "CNN(loops+numba).ipynb",
   "provenance": []
  },
  "kernelspec": {
   "display_name": "Python 3",
   "language": "python",
   "name": "python3"
  },
  "language_info": {
   "codemirror_mode": {
    "name": "ipython",
    "version": 3
   },
   "file_extension": ".py",
   "mimetype": "text/x-python",
   "name": "python",
   "nbconvert_exporter": "python",
   "pygments_lexer": "ipython3",
   "version": "3.7.10"
  }
 },
 "nbformat": 4,
 "nbformat_minor": 4
}
